{
 "cells": [
  {
   "cell_type": "code",
   "execution_count": 1,
   "metadata": {},
   "outputs": [],
   "source": [
    "import numpy as np\n",
    "from sklearn.metrics import confusion_matrix\n",
    "from sklearn.linear_model import LogisticRegressionCV\n",
    "from sklearn.linear_model import LogisticRegression\n",
    "from sklearn.model_selection import train_test_split\n",
    "from sklearn.preprocessing import StandardScaler\n"
   ]
  },
  {
   "cell_type": "code",
   "execution_count": 2,
   "metadata": {},
   "outputs": [],
   "source": [
    "path=\"/home/ftamagnan/dataset/\"\n",
    "name=\"total_metrics_training.npz\"\n",
    "data=dict(np.load(path+name))\n",
    "\n",
    "data[\"random\"]= np.random.rand(6729,3)\n"
   ]
  },
  {
   "cell_type": "code",
   "execution_count": 3,
   "metadata": {},
   "outputs": [],
   "source": [
    "def feature_selection(scaler=True,cv=True,list_list_label=[],penalty='l2',stats=True):\n",
    "\n",
    "    \n",
    "    \n",
    "    \n",
    "    for list_label in list_list_label:\n",
    "            list_x=[]\n",
    "            for key in data.keys():\n",
    "                if key in list_label:\n",
    "                    list_x.append(data[key])\n",
    "            X=np.concatenate(list_x,axis=1)\n",
    "            y=data['fills'][:,1].reshape(-1)\n",
    "            X_train, X_test, y_train, y_test = train_test_split(X, y, test_size=0.3, random_state=1)\n",
    "            if scaler:\n",
    "                scaler = StandardScaler()\n",
    "                scaler.fit(X_train)\n",
    "                X_train=scaler.transform(X_train)\n",
    "                X_test=scaler.transform(X_test)\n",
    "            \n",
    "            if cv:\n",
    "                clf = LogisticRegressionCV(cv=2, random_state=0,\n",
    "                                   multi_class='ovr',penalty=penalty,solver='liblinear',max_iter=300,n_jobs=-1).fit(X_train, y_train)\n",
    "            else:\n",
    "                clf = LogisticRegression(random_state=0,C=100000000).fit(X_train, y_train)\n",
    "\n",
    "            y_pred=clf.predict(X_test)\n",
    "            tn, fp, fn, tp=confusion_matrix(y_test, y_pred).ravel()\n",
    "            if stats:\n",
    "                print(\"__________Features used : \"+str(list_label)+\"_______\")\n",
    "                print(\"tn,fp,fn,tp = \",tn,fp,fn,tp)\n",
    "                print(\"Accuracy = \",(tp+tn)/(tn+fp+fn+tp))\n",
    "                print(\"Recall = \",(tp)/(fn+tp))\n",
    "                print(\"Precision = \",(tp)/(fp+tp))\n",
    "\n",
    "    return clf\n",
    "\n"
   ]
  },
  {
   "cell_type": "markdown",
   "metadata": {},
   "source": [
    "# 1.Feature selection"
   ]
  },
  {
   "cell_type": "code",
   "execution_count": 4,
   "metadata": {},
   "outputs": [
    {
     "name": "stdout",
     "output_type": "stream",
     "text": [
      "__________Features used : ['vae_embeddings', 'offbeat_notes', 'drums_pitches_used', 'velocity_metrics']_______\n",
      "tn,fp,fn,tp =  1577 38 62 342\n",
      "Accuracy =  0.9504705299653293\n",
      "Recall =  0.8465346534653465\n",
      "Precision =  0.9\n",
      "__________Features used : ['offbeat_notes', 'drums_pitches_used', 'velocity_metrics']_______\n",
      "tn,fp,fn,tp =  1567 48 67 337\n",
      "Accuracy =  0.9430411094601288\n",
      "Recall =  0.8341584158415841\n",
      "Precision =  0.8753246753246753\n",
      "__________Features used : ['vae_embeddings']_______\n",
      "tn,fp,fn,tp =  1601 14 365 39\n",
      "Accuracy =  0.8122833085685983\n",
      "Recall =  0.09653465346534654\n",
      "Precision =  0.7358490566037735\n",
      "__________Features used : ['offbeat_notes']_______\n",
      "tn,fp,fn,tp =  1614 1 404 0\n",
      "Accuracy =  0.799405646359584\n",
      "Recall =  0.0\n",
      "Precision =  0.0\n",
      "__________Features used : ['drums_pitches_used']_______\n",
      "tn,fp,fn,tp =  1525 90 171 233\n",
      "Accuracy =  0.8707280832095097\n",
      "Recall =  0.5767326732673267\n",
      "Precision =  0.7213622291021672\n",
      "__________Features used : ['velocity_metrics']_______\n",
      "tn,fp,fn,tp =  1551 64 82 322\n",
      "Accuracy =  0.9276869737493809\n",
      "Recall =  0.7970297029702971\n",
      "Precision =  0.8341968911917098\n",
      "__________Features used : ['drums_pitches_used', 'velocity_metrics']_______\n",
      "tn,fp,fn,tp =  1551 64 79 325\n",
      "Accuracy =  0.929172857850421\n",
      "Recall =  0.8044554455445545\n",
      "Precision =  0.8354755784061697\n",
      "__________Features used : ['random']_______\n",
      "tn,fp,fn,tp =  1615 0 404 0\n",
      "Accuracy =  0.7999009410599307\n",
      "Recall =  0.0\n",
      "Precision =  nan\n"
     ]
    },
    {
     "name": "stderr",
     "output_type": "stream",
     "text": [
      "/usr/local/lib/python3.5/dist-packages/ipykernel_launcher.py:33: RuntimeWarning: invalid value encountered in long_scalars\n"
     ]
    }
   ],
   "source": [
    "list_list_label=[['vae_embeddings','offbeat_notes','drums_pitches_used','velocity_metrics'],\n",
    "               ['offbeat_notes','drums_pitches_used','velocity_metrics'],\n",
    "               ['vae_embeddings'],\n",
    "               ['offbeat_notes'],\n",
    "               ['drums_pitches_used'],\n",
    "               ['velocity_metrics'],\n",
    "                 ['drums_pitches_used','velocity_metrics'],\n",
    "                 ['random']\n",
    "]\n",
    "\n",
    "clf=feature_selection(scaler=True,cv=True,list_list_label=list_list_label)"
   ]
  },
  {
   "cell_type": "code",
   "execution_count": 5,
   "metadata": {},
   "outputs": [],
   "source": [
    "list_list_label=[['vae_embeddings','offbeat_notes','drums_pitches_used','velocity_metrics']]\n",
    "             \n",
    "\n",
    "clf_l1=feature_selection(scaler=True,cv=True,list_list_label=list_list_label,penalty='l1',stats=False)\n",
    "clf_l2=feature_selection(scaler=True,cv=True,list_list_label=list_list_label,penalty='l2',stats=False)"
   ]
  },
  {
   "cell_type": "code",
   "execution_count": null,
   "metadata": {},
   "outputs": [],
   "source": []
  },
  {
   "cell_type": "code",
   "execution_count": 6,
   "metadata": {},
   "outputs": [],
   "source": [
    "name_pitches = ['bass drum','snare drum','closed hi-hat','open hi-hat','low tom','mid tom','high tom','crash cymbal','ride cymbal']\n",
    "name_features=['min_velocity','max_velocity','std_velocity','max_velocity']"
   ]
  },
  {
   "cell_type": "code",
   "execution_count": 7,
   "metadata": {},
   "outputs": [],
   "source": [
    "def stats_weights(clf):\n",
    "    coef=clf.coef_\n",
    "    coef=coef.reshape(-1)\n",
    "    print(\"------VAE EMBEDDINGS-------\")\n",
    "    print(coef[0:32])\n",
    "\n",
    "    print(\"------OFFBEATS NOTES-------\")\n",
    "    print(coef[32])\n",
    "\n",
    "    print(\"------VELOCITY METRICS-------\")\n",
    "    for i,pitch in enumerate(name_pitches):\n",
    "        for j,metric in enumerate(name_features):\n",
    "            print(metric+' of '+pitch,coef[33+i+j])\n",
    "        \n",
    "    print(\"------PITCHES USED-------\")\n",
    "    for i,pitch in enumerate(name_pitches):\n",
    "        print('use of '+pitch,coef[33+36+i])"
   ]
  },
  {
   "cell_type": "markdown",
   "metadata": {},
   "source": [
    "# 2. Magnitude of weights with L1 reg"
   ]
  },
  {
   "cell_type": "code",
   "execution_count": 8,
   "metadata": {},
   "outputs": [
    {
     "name": "stdout",
     "output_type": "stream",
     "text": [
      "------VAE EMBEDDINGS-------\n",
      "[ 0.04384562 -0.10273759  0.04127356  0.27254441  0.28161399  0.11470882\n",
      "  0.28008234  0.109668   -0.17435904  0.04193808  0.05404063  0.36916974\n",
      "  0.09312229 -0.23717745  0.43223129  0.02199915 -0.29484831  0.00865722\n",
      " -0.3605209  -0.07537753 -0.13489147  0.07119396  0.08821702 -0.22635638\n",
      "  0.00925412  0.0926016   0.24566683  0.08003343 -0.1735406  -0.28832851\n",
      "  0.1522567   0.07934086]\n",
      "------OFFBEATS NOTES-------\n",
      "0.0\n",
      "------VELOCITY METRICS-------\n",
      "min_velocity of bass drum 0.0\n",
      "max_velocity of bass drum 0.0\n",
      "std_velocity of bass drum 0.0\n",
      "max_velocity of bass drum 0.0\n",
      "min_velocity of snare drum 0.0\n",
      "max_velocity of snare drum 0.0\n",
      "std_velocity of snare drum 0.0\n",
      "max_velocity of snare drum 0.0\n",
      "min_velocity of closed hi-hat 0.0\n",
      "max_velocity of closed hi-hat 0.0\n",
      "std_velocity of closed hi-hat 0.0\n",
      "max_velocity of closed hi-hat 0.0\n",
      "min_velocity of open hi-hat 0.0\n",
      "max_velocity of open hi-hat 0.0\n",
      "std_velocity of open hi-hat 0.0\n",
      "max_velocity of open hi-hat 0.0\n",
      "min_velocity of low tom 0.0\n",
      "max_velocity of low tom 0.0\n",
      "std_velocity of low tom 0.0\n",
      "max_velocity of low tom 0.0\n",
      "min_velocity of mid tom 0.0\n",
      "max_velocity of mid tom 0.0\n",
      "std_velocity of mid tom 0.0\n",
      "max_velocity of mid tom 1.516787216294629\n",
      "min_velocity of high tom 0.0\n",
      "max_velocity of high tom 0.0\n",
      "std_velocity of high tom 1.516787216294629\n",
      "max_velocity of high tom 0.15598755704047632\n",
      "min_velocity of crash cymbal 0.0\n",
      "max_velocity of crash cymbal 1.516787216294629\n",
      "std_velocity of crash cymbal 0.15598755704047632\n",
      "max_velocity of crash cymbal 0.046773615222444574\n",
      "min_velocity of ride cymbal 1.516787216294629\n",
      "max_velocity of ride cymbal 0.15598755704047632\n",
      "std_velocity of ride cymbal 0.046773615222444574\n",
      "max_velocity of ride cymbal 0.5820484069951526\n",
      "------PITCHES USED-------\n",
      "use of bass drum -1.2258084241344063\n",
      "use of snare drum 0.8755287164293794\n",
      "use of closed hi-hat 0.06089268627832072\n",
      "use of open hi-hat 0.46586858818450927\n",
      "use of low tom -3.6765368157768754\n",
      "use of mid tom -3.904324015404504\n",
      "use of high tom 0.2064279297629156\n",
      "use of crash cymbal -1.9190167019408808\n",
      "use of ride cymbal -1.408709596818924\n"
     ]
    }
   ],
   "source": [
    "stats_weights(clf_l1)"
   ]
  },
  {
   "cell_type": "markdown",
   "metadata": {},
   "source": [
    "# 3.Magnitude of weights with L2 reg"
   ]
  },
  {
   "cell_type": "code",
   "execution_count": 9,
   "metadata": {},
   "outputs": [
    {
     "name": "stdout",
     "output_type": "stream",
     "text": [
      "------VAE EMBEDDINGS-------\n",
      "[ 0.04579893 -0.11510138  0.03998235  0.2952678   0.29363009  0.11867883\n",
      "  0.28924514  0.11314356 -0.18448098  0.04871108  0.04720873  0.3909745\n",
      "  0.09534698 -0.24245628  0.43758741  0.03825606 -0.29471778  0.0132464\n",
      " -0.36721753 -0.07634466 -0.14393415  0.07250993  0.09211486 -0.23854252\n",
      "  0.01521906  0.10318535  0.25537608  0.08939967 -0.17232741 -0.30583347\n",
      "  0.15840271  0.08290737]\n",
      "------OFFBEATS NOTES-------\n",
      "0.0\n",
      "------VELOCITY METRICS-------\n",
      "min_velocity of bass drum 0.0\n",
      "max_velocity of bass drum 0.0\n",
      "std_velocity of bass drum 0.0\n",
      "max_velocity of bass drum 0.0\n",
      "min_velocity of snare drum 0.0\n",
      "max_velocity of snare drum 0.0\n",
      "std_velocity of snare drum 0.0\n",
      "max_velocity of snare drum 0.0\n",
      "min_velocity of closed hi-hat 0.0\n",
      "max_velocity of closed hi-hat 0.0\n",
      "std_velocity of closed hi-hat 0.0\n",
      "max_velocity of closed hi-hat 0.0\n",
      "min_velocity of open hi-hat 0.0\n",
      "max_velocity of open hi-hat 0.0\n",
      "std_velocity of open hi-hat 0.0\n",
      "max_velocity of open hi-hat 0.0\n",
      "min_velocity of low tom 0.0\n",
      "max_velocity of low tom 0.0\n",
      "std_velocity of low tom 0.0\n",
      "max_velocity of low tom 0.0\n",
      "min_velocity of mid tom 0.0\n",
      "max_velocity of mid tom 0.0\n",
      "std_velocity of mid tom 0.0\n",
      "max_velocity of mid tom 1.7585687517110746\n",
      "min_velocity of high tom 0.0\n",
      "max_velocity of high tom 0.0\n",
      "std_velocity of high tom 1.7585687517110746\n",
      "max_velocity of high tom 0.20338877906640992\n",
      "min_velocity of crash cymbal 0.0\n",
      "max_velocity of crash cymbal 1.7585687517110746\n",
      "std_velocity of crash cymbal 0.20338877906640992\n",
      "max_velocity of crash cymbal 0.12879382108010928\n",
      "min_velocity of ride cymbal 1.7585687517110746\n",
      "max_velocity of ride cymbal 0.20338877906640992\n",
      "std_velocity of ride cymbal 0.12879382108010928\n",
      "max_velocity of ride cymbal 0.6175954911401471\n",
      "------PITCHES USED-------\n",
      "use of bass drum -1.2806823424622633\n",
      "use of snare drum 0.8624487463477601\n",
      "use of closed hi-hat 0.07856740872162848\n",
      "use of open hi-hat 0.7893906864581665\n",
      "use of low tom -3.810056357096254\n",
      "use of mid tom -4.20630394831384\n",
      "use of high tom 0.4274364999081062\n",
      "use of crash cymbal -2.3437856352532194\n",
      "use of ride cymbal -1.4177942482418018\n"
     ]
    }
   ],
   "source": [
    "stats_weights(clf_l2)"
   ]
  }
 ],
 "metadata": {
  "kernelspec": {
   "display_name": "Python 3",
   "language": "python",
   "name": "python3"
  },
  "language_info": {
   "codemirror_mode": {
    "name": "ipython",
    "version": 3
   },
   "file_extension": ".py",
   "mimetype": "text/x-python",
   "name": "python",
   "nbconvert_exporter": "python",
   "pygments_lexer": "ipython3",
   "version": "3.5.2"
  }
 },
 "nbformat": 4,
 "nbformat_minor": 2
}
