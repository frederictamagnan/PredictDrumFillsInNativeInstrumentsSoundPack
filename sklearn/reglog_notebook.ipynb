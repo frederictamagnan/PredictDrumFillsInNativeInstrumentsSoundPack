{
 "cells": [
  {
   "cell_type": "code",
   "execution_count": 1,
   "metadata": {},
   "outputs": [],
   "source": [
    "import numpy as np\n",
    "from sklearn.metrics import confusion_matrix\n",
    "from sklearn.linear_model import LogisticRegressionCV\n",
    "from sklearn.linear_model import LogisticRegression\n",
    "from sklearn.model_selection import train_test_split\n",
    "from sklearn.preprocessing import StandardScaler\n"
   ]
  },
  {
   "cell_type": "code",
   "execution_count": 2,
   "metadata": {},
   "outputs": [
    {
     "name": "stdout",
     "output_type": "stream",
     "text": [
      "(6729, 3) random\n",
      "(6729, 12) genre\n",
      "(6729, 2, 1) fills\n",
      "(6729, 9) drums_pitches_used\n",
      "(6729, 27) velocity_metadata\n",
      "(6729, 1) bpm\n",
      "(6729, 32) vae_embeddings\n",
      "(6729, 1) offbeat_notes\n",
      "(6729, 2) dataset\n"
     ]
    }
   ],
   "source": [
    "path=\"/home/ftamagnan/dataset/\"\n",
    "name=\"total_metadata_training.npz\"\n",
    "data=dict(np.load(path+name))\n",
    "\n",
    "data[\"random\"]= np.random.rand(6729,3)\n",
    "\n",
    "\n",
    "data['vae_embeddings']=data['vae_embeddings'][:,0:32]\n",
    "for key in data.keys():\n",
    "    print(data[key].shape,key)"
   ]
  },
  {
   "cell_type": "code",
   "execution_count": 3,
   "metadata": {},
   "outputs": [],
   "source": [
    "def feature_selection(scaler=True,cv=True,list_list_label=[],penalty='l2',stats=True):\n",
    "\n",
    "    \n",
    "    \n",
    "    \n",
    "    for list_label in list_list_label:\n",
    "            list_x=[]\n",
    "            for key in data.keys():\n",
    "                if key in list_label:\n",
    "                    list_x.append(data[key])\n",
    "            print(x.shape for x in list_x)\n",
    "            X=np.concatenate(list_x,axis=1)\n",
    "            y=data['fills'][:,1].reshape(-1)\n",
    "            X_train, X_test, y_train, y_test = train_test_split(X, y, test_size=0.3, random_state=1)\n",
    "            if scaler:\n",
    "                scaler = StandardScaler()\n",
    "                scaler.fit(X_train)\n",
    "                X_train=scaler.transform(X_train)\n",
    "                X_test=scaler.transform(X_test)\n",
    "            \n",
    "            if cv:\n",
    "                clf = LogisticRegressionCV(cv=2, random_state=0,\n",
    "                                   multi_class='ovr',penalty=penalty,solver='liblinear',max_iter=300,n_jobs=-1).fit(X_train, y_train)\n",
    "            else:\n",
    "                clf = LogisticRegression(random_state=0,C=100000000).fit(X_train, y_train)\n",
    "\n",
    "#             y_pred=clf.predict(X_test)\n",
    "            y_pred=(clf.predict_proba(X_test)>0.5)*1\n",
    "            y_pred=y_pred[:,1]\n",
    "            tn, fp, fn, tp=confusion_matrix(y_test, y_pred).ravel()\n",
    "            if stats:\n",
    "                print(\"__________Features used : \"+str(list_label)+\"_______\")\n",
    "                print(\"tn,fp,fn,tp = \",tn,fp,fn,tp)\n",
    "                print(\"Accuracy = \",(tp+tn)/(tn+fp+fn+tp))\n",
    "                print(\"Recall = \",(tp)/(fn+tp))\n",
    "                print(\"Precision = \",(tp)/(fp+tp))\n",
    "\n",
    "    return clf\n",
    "\n"
   ]
  },
  {
   "cell_type": "markdown",
   "metadata": {},
   "source": [
    "# 1.Feature selection"
   ]
  },
  {
   "cell_type": "code",
   "execution_count": 4,
   "metadata": {},
   "outputs": [
    {
     "name": "stdout",
     "output_type": "stream",
     "text": [
      "<generator object feature_selection.<locals>.<genexpr> at 0x7f4019a8b5c8>\n",
      "__________Features used : ['vae_embeddings', 'offbeat_notes', 'drums_pitches_used', 'velocity_metadata']_______\n",
      "tn,fp,fn,tp =  1578 37 68 336\n",
      "Accuracy =  0.9479940564635958\n",
      "Recall =  0.8316831683168316\n",
      "Precision =  0.900804289544236\n",
      "<generator object feature_selection.<locals>.<genexpr> at 0x7f4019a8b5c8>\n",
      "__________Features used : ['offbeat_notes', 'drums_pitches_used', 'velocity_metadata']_______\n",
      "tn,fp,fn,tp =  1558 57 72 332\n",
      "Accuracy =  0.9361069836552749\n",
      "Recall =  0.8217821782178217\n",
      "Precision =  0.8534704370179949\n",
      "<generator object feature_selection.<locals>.<genexpr> at 0x7f4019a8b5c8>\n",
      "__________Features used : ['vae_embeddings']_______\n",
      "tn,fp,fn,tp =  1598 17 381 23\n",
      "Accuracy =  0.8028727092620109\n",
      "Recall =  0.05693069306930693\n",
      "Precision =  0.575\n",
      "<generator object feature_selection.<locals>.<genexpr> at 0x7f4019a8b5c8>\n",
      "__________Features used : ['offbeat_notes']_______\n",
      "tn,fp,fn,tp =  1614 1 404 0\n",
      "Accuracy =  0.799405646359584\n",
      "Recall =  0.0\n",
      "Precision =  0.0\n",
      "<generator object feature_selection.<locals>.<genexpr> at 0x7f4019a8b5c8>\n",
      "__________Features used : ['drums_pitches_used']_______\n",
      "tn,fp,fn,tp =  1525 90 171 233\n",
      "Accuracy =  0.8707280832095097\n",
      "Recall =  0.5767326732673267\n",
      "Precision =  0.7213622291021672\n",
      "<generator object feature_selection.<locals>.<genexpr> at 0x7f4019a8b5c8>\n",
      "__________Features used : ['velocity_metadata']_______\n",
      "tn,fp,fn,tp =  1535 80 85 319\n",
      "Accuracy =  0.9182763744427934\n",
      "Recall =  0.7896039603960396\n",
      "Precision =  0.7994987468671679\n",
      "<generator object feature_selection.<locals>.<genexpr> at 0x7f4019a8b5c8>\n",
      "__________Features used : ['drums_pitches_used', 'velocity_metadata', 'vae_embeddings']_______\n",
      "tn,fp,fn,tp =  1579 36 70 334\n",
      "Accuracy =  0.9474987617632491\n",
      "Recall =  0.8267326732673267\n",
      "Precision =  0.9027027027027027\n",
      "<generator object feature_selection.<locals>.<genexpr> at 0x7f4019a8b5c8>\n",
      "__________Features used : ['vae_embeddings', 'velocity_metadata']_______\n",
      "tn,fp,fn,tp =  1575 40 76 328\n",
      "Accuracy =  0.942545814759782\n",
      "Recall =  0.8118811881188119\n",
      "Precision =  0.8913043478260869\n",
      "<generator object feature_selection.<locals>.<genexpr> at 0x7f4019a8b5c8>\n",
      "__________Features used : ['random']_______\n",
      "tn,fp,fn,tp =  1615 0 404 0\n",
      "Accuracy =  0.7999009410599307\n",
      "Recall =  0.0\n",
      "Precision =  nan\n"
     ]
    },
    {
     "name": "stderr",
     "output_type": "stream",
     "text": [
      "/usr/local/lib/python3.5/dist-packages/ipykernel_launcher.py:36: RuntimeWarning: invalid value encountered in long_scalars\n"
     ]
    }
   ],
   "source": [
    "list_list_label=[['vae_embeddings','offbeat_notes','drums_pitches_used','velocity_metadata'],\n",
    "               ['offbeat_notes','drums_pitches_used','velocity_metadata'],\n",
    "               ['vae_embeddings'],\n",
    "               ['offbeat_notes'],\n",
    "               ['drums_pitches_used'],\n",
    "               ['velocity_metadata'],\n",
    "                 ['drums_pitches_used','velocity_metadata','vae_embeddings'],\n",
    "                 ['vae_embeddings','velocity_metadata'],\n",
    "                 ['random']\n",
    "]\n",
    "\n",
    "clf=feature_selection(scaler=True,cv=True,list_list_label=list_list_label)"
   ]
  },
  {
   "cell_type": "code",
   "execution_count": 5,
   "metadata": {},
   "outputs": [
    {
     "name": "stdout",
     "output_type": "stream",
     "text": [
      "<generator object feature_selection.<locals>.<genexpr> at 0x7f4019aacd58>\n",
      "<generator object feature_selection.<locals>.<genexpr> at 0x7f40758ca728>\n"
     ]
    }
   ],
   "source": [
    "list_list_label=[['vae_embeddings','offbeat_notes','velocity_metadata','drums_pitches_used']]\n",
    "             \n",
    "\n",
    "clf_l1=feature_selection(scaler=True,cv=True,list_list_label=list_list_label,penalty='l1',stats=False)\n",
    "clf_l2=feature_selection(scaler=True,cv=True,list_list_label=list_list_label,penalty='l2',stats=False)"
   ]
  },
  {
   "cell_type": "code",
   "execution_count": null,
   "metadata": {},
   "outputs": [],
   "source": []
  },
  {
   "cell_type": "code",
   "execution_count": 6,
   "metadata": {},
   "outputs": [],
   "source": [
    "name_pitches = ['bass drum','snare drum','closed hi-hat','open hi-hat','low tom','mid tom','high tom','crash cymbal','ride cymbal']\n",
    "name_features=['min_velocity','max_velocity','std_velocity','max_velocity']"
   ]
  },
  {
   "cell_type": "code",
   "execution_count": 7,
   "metadata": {},
   "outputs": [],
   "source": [
    "def stats_weights(clf):\n",
    "    coef=clf.coef_\n",
    "    coef=coef.reshape(-1)\n",
    "    print(\"------VAE EMBEDDINGS-------\")\n",
    "    print(coef[0:32])\n",
    "\n",
    "    print(\"------OFFBEATS NOTES-------\")\n",
    "    print(coef[32])\n",
    "\n",
    "    print(\"------VELOCITY METRICS-------\")\n",
    "    for i,pitch in enumerate(name_pitches):\n",
    "        for j,metric in enumerate(name_features):\n",
    "            print(metric+' of '+pitch,coef[33+i+j])\n",
    "        \n",
    "    print(\"------PITCHES USED-------\")\n",
    "    for i,pitch in enumerate(name_pitches):\n",
    "        print('use of '+pitch,coef[33+36+i])"
   ]
  },
  {
   "cell_type": "markdown",
   "metadata": {},
   "source": [
    "# 2. Magnitude of weights with L1 reg"
   ]
  },
  {
   "cell_type": "code",
   "execution_count": 8,
   "metadata": {},
   "outputs": [
    {
     "name": "stdout",
     "output_type": "stream",
     "text": [
      "------VAE EMBEDDINGS-------\n",
      "[-1.19913428 -1.27333359  0.59356504 -0.55011543  1.70979162 -3.31472844\n",
      " -4.51148881 -0.30450725 -3.09179385  2.76696085  1.13993118  0.89662331\n",
      "  1.04266921 -1.89674702  5.09189333  5.40363718  0.49869981  1.95776004\n",
      " -1.46794113  0.21723554 -2.01971986 -0.59546707  0.40198004 -0.89754297\n",
      " -0.71811299  0.33737595  1.41754014 -0.49743002  2.35541024  0.21393959\n",
      " -0.21493416  1.15940458]\n",
      "------OFFBEATS NOTES-------\n",
      "0.08099926814400074\n",
      "------VELOCITY METRICS-------\n",
      "min_velocity of bass drum -0.03623687436579776\n",
      "max_velocity of bass drum -0.188287761462922\n",
      "std_velocity of bass drum -1.5434867911034689\n",
      "max_velocity of bass drum 0.5826175679325705\n",
      "min_velocity of snare drum -0.188287761462922\n",
      "max_velocity of snare drum -1.5434867911034689\n",
      "std_velocity of snare drum 0.5826175679325705\n",
      "max_velocity of snare drum 0.8993529007692185\n",
      "min_velocity of closed hi-hat -1.5434867911034689\n",
      "max_velocity of closed hi-hat 0.5826175679325705\n",
      "std_velocity of closed hi-hat 0.8993529007692185\n",
      "max_velocity of closed hi-hat 0.5994397769997578\n",
      "min_velocity of open hi-hat 0.5826175679325705\n",
      "max_velocity of open hi-hat 0.8993529007692185\n",
      "std_velocity of open hi-hat 0.5994397769997578\n",
      "max_velocity of open hi-hat 1.051303308229461\n",
      "min_velocity of low tom 0.8993529007692185\n",
      "max_velocity of low tom 0.5994397769997578\n",
      "std_velocity of low tom 1.051303308229461\n",
      "max_velocity of low tom -0.8817022680724474\n",
      "min_velocity of mid tom 0.5994397769997578\n",
      "max_velocity of mid tom 1.051303308229461\n",
      "std_velocity of mid tom -0.8817022680724474\n",
      "max_velocity of mid tom -2.251228673299169\n",
      "min_velocity of high tom 1.051303308229461\n",
      "max_velocity of high tom -0.8817022680724474\n",
      "std_velocity of high tom -2.251228673299169\n",
      "max_velocity of high tom -0.15966483592836672\n",
      "min_velocity of crash cymbal -0.8817022680724474\n",
      "max_velocity of crash cymbal -2.251228673299169\n",
      "std_velocity of crash cymbal -0.15966483592836672\n",
      "max_velocity of crash cymbal -1.1758458336032902\n",
      "min_velocity of ride cymbal -2.251228673299169\n",
      "max_velocity of ride cymbal -0.15966483592836672\n",
      "std_velocity of ride cymbal -1.1758458336032902\n",
      "max_velocity of ride cymbal 0.21117671828646842\n",
      "------PITCHES USED-------\n"
     ]
    },
    {
     "ename": "IndexError",
     "evalue": "index 69 is out of bounds for axis 0 with size 69",
     "output_type": "error",
     "traceback": [
      "\u001b[0;31m---------------------------------------------------------------------------\u001b[0m",
      "\u001b[0;31mIndexError\u001b[0m                                Traceback (most recent call last)",
      "\u001b[0;32m<ipython-input-8-7336f002522e>\u001b[0m in \u001b[0;36m<module>\u001b[0;34m()\u001b[0m\n\u001b[0;32m----> 1\u001b[0;31m \u001b[0mstats_weights\u001b[0m\u001b[0;34m(\u001b[0m\u001b[0mclf_l2\u001b[0m\u001b[0;34m)\u001b[0m\u001b[0;34m\u001b[0m\u001b[0m\n\u001b[0m",
      "\u001b[0;32m<ipython-input-7-96ee6a16aa27>\u001b[0m in \u001b[0;36mstats_weights\u001b[0;34m(clf)\u001b[0m\n\u001b[1;32m     15\u001b[0m     \u001b[0mprint\u001b[0m\u001b[0;34m(\u001b[0m\u001b[0;34m\"------PITCHES USED-------\"\u001b[0m\u001b[0;34m)\u001b[0m\u001b[0;34m\u001b[0m\u001b[0m\n\u001b[1;32m     16\u001b[0m     \u001b[0;32mfor\u001b[0m \u001b[0mi\u001b[0m\u001b[0;34m,\u001b[0m\u001b[0mpitch\u001b[0m \u001b[0;32min\u001b[0m \u001b[0menumerate\u001b[0m\u001b[0;34m(\u001b[0m\u001b[0mname_pitches\u001b[0m\u001b[0;34m)\u001b[0m\u001b[0;34m:\u001b[0m\u001b[0;34m\u001b[0m\u001b[0m\n\u001b[0;32m---> 17\u001b[0;31m         \u001b[0mprint\u001b[0m\u001b[0;34m(\u001b[0m\u001b[0;34m'use of '\u001b[0m\u001b[0;34m+\u001b[0m\u001b[0mpitch\u001b[0m\u001b[0;34m,\u001b[0m\u001b[0mcoef\u001b[0m\u001b[0;34m[\u001b[0m\u001b[0;36m33\u001b[0m\u001b[0;34m+\u001b[0m\u001b[0;36m36\u001b[0m\u001b[0;34m+\u001b[0m\u001b[0mi\u001b[0m\u001b[0;34m]\u001b[0m\u001b[0;34m)\u001b[0m\u001b[0;34m\u001b[0m\u001b[0m\n\u001b[0m",
      "\u001b[0;31mIndexError\u001b[0m: index 69 is out of bounds for axis 0 with size 69"
     ]
    }
   ],
   "source": [
    "stats_weights(clf_l2)"
   ]
  },
  {
   "cell_type": "markdown",
   "metadata": {},
   "source": [
    "# 3.Magnitude of weights with L2 reg"
   ]
  },
  {
   "cell_type": "code",
   "execution_count": null,
   "metadata": {},
   "outputs": [],
   "source": [
    "stats_weights(clf_l2)"
   ]
  },
  {
   "cell_type": "code",
   "execution_count": null,
   "metadata": {},
   "outputs": [],
   "source": [
    "from sklearn.externals import joblib\n",
    "s = joblib.dump(clf_l2,'clf_fills.pkl')\n"
   ]
  },
  {
   "cell_type": "markdown",
   "metadata": {},
   "source": [
    "# 4. Evaluate Generated model"
   ]
  },
  {
   "cell_type": "code",
   "execution_count": null,
   "metadata": {},
   "outputs": [],
   "source": [
    "list_list_label=[['velocity_metadata']]\n",
    "             \n",
    "clf_l2=feature_selection(scaler=True,cv=True,list_list_label=list_list_label,penalty='l2',stats=False)\n",
    "\n",
    "tr=np.load('/home/ftamagnan/dataset/all.npy')\n",
    "print(tr.shape)\n",
    "tr=np.concatenate((tr[:,:16,:],tr[:,16:,:]))\n",
    "print(tr.shape)\n",
    "max_axis=np.max(tr,axis=1)\n",
    "# std_axis=np.std(tr,axis=1,dtype=np.float64)\n",
    "# mean_axis=np.mean(tr,axis=1,dtype=np.float64)\n",
    "\n",
    "# velocity_metadata=np.concatenate([max_axis,std_axis,mean_axis],axis=1)\n",
    "y_pred=(clf_l2.predict_proba(velocity_metadata))*1\n",
    "y_pred=y_pred[:,1]\n",
    "print(y_pred.shape)\n",
    "\n",
    "a=y_pred[:1000]\n",
    "b=y_pred[1000:]\n",
    "(b-a).sum()/1000\n",
    "\n"
   ]
  },
  {
   "cell_type": "code",
   "execution_count": null,
   "metadata": {},
   "outputs": [],
   "source": []
  }
 ],
 "metadata": {
  "kernelspec": {
   "display_name": "Python 3",
   "language": "python",
   "name": "python3"
  },
  "language_info": {
   "codemirror_mode": {
    "name": "ipython",
    "version": 3
   },
   "file_extension": ".py",
   "mimetype": "text/x-python",
   "name": "python",
   "nbconvert_exporter": "python",
   "pygments_lexer": "ipython3",
   "version": "3.5.2"
  }
 },
 "nbformat": 4,
 "nbformat_minor": 2
}
