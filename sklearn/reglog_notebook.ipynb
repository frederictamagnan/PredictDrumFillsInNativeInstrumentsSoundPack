{
 "cells": [
  {
   "cell_type": "code",
   "execution_count": 1,
   "metadata": {},
   "outputs": [],
   "source": [
    "import numpy as np\n",
    "from sklearn.metrics import confusion_matrix\n",
    "from sklearn.linear_model import LogisticRegressionCV\n",
    "from sklearn.linear_model import LogisticRegression\n",
    "from sklearn.model_selection import train_test_split\n",
    "from sklearn.preprocessing import StandardScaler\n"
   ]
  },
  {
   "cell_type": "code",
   "execution_count": 2,
   "metadata": {},
   "outputs": [
    {
     "name": "stdout",
     "output_type": "stream",
     "text": [
      "(6729, 1) offbeat_notes\n",
      "(6729, 9) drums_pitches_used\n",
      "(6729, 3) random\n",
      "(6729, 1) bpm\n",
      "(6729, 144) reduced_drums\n",
      "(6729, 144) reduced_drums_velocity\n",
      "(6729, 9) count\n",
      "(6729, 12) genre\n",
      "(6729, 32) vae_embeddings\n",
      "(6729, 2, 1) fills\n",
      "(6729, 27) velocity_metadata\n",
      "(6729, 2) dataset\n"
     ]
    }
   ],
   "source": [
    "path=\"/home/ftamagnan/dataset/\"\n",
    "name=\"total_metadata_training.npz\"\n",
    "data=dict(np.load(path+name))\n",
    "\n",
    "data[\"random\"]= np.random.rand(6729,3)\n",
    "\n",
    "\n",
    "data['vae_embeddings']=data['vae_embeddings'][:,0:32]\n",
    "for key in data.keys():\n",
    "    print(data[key].shape,key)"
   ]
  },
  {
   "cell_type": "code",
   "execution_count": 3,
   "metadata": {},
   "outputs": [],
   "source": [
    "def feature_selection(scaler=True,cv=True,list_list_label=[],penalty='l2',stats=True):\n",
    "\n",
    "    \n",
    "    \n",
    "    \n",
    "    for list_label in list_list_label:\n",
    "            list_x=[]\n",
    "            for key in data.keys():\n",
    "                if key in list_label:\n",
    "                    list_x.append(data[key])\n",
    "            print(x.shape for x in list_x)\n",
    "            X=np.concatenate(list_x,axis=1)\n",
    "            y=data['fills'][:,1].reshape(-1)\n",
    "            X_train, X_test, y_train, y_test = train_test_split(X, y, test_size=0.3, random_state=1)\n",
    "            if scaler:\n",
    "                scaler = StandardScaler()\n",
    "                scaler.fit(X_train)\n",
    "                X_train=scaler.transform(X_train)\n",
    "                X_test=scaler.transform(X_test)\n",
    "            \n",
    "            if cv:\n",
    "                clf = LogisticRegressionCV(cv=2, random_state=0,\n",
    "                                   multi_class='ovr',penalty=penalty,solver='liblinear',max_iter=300,n_jobs=-1).fit(X_train, y_train)\n",
    "            else:\n",
    "                clf = LogisticRegression(random_state=0,C=100000000).fit(X_train, y_train)\n",
    "\n",
    "#             y_pred=clf.predict(X_test)\n",
    "            y_pred=(clf.predict_proba(X_test)>0.5)*1\n",
    "            y_pred=y_pred[:,1]\n",
    "            tn, fp, fn, tp=confusion_matrix(y_test, y_pred).ravel()\n",
    "            if stats:\n",
    "                print(\"__________Features used : \"+str(list_label)+\"_______\")\n",
    "                print(\"tn,fp,fn,tp = \",tn,fp,fn,tp)\n",
    "                print(\"Accuracy = \",(tp+tn)/(tn+fp+fn+tp))\n",
    "                print(\"Recall = \",(tp)/(fn+tp))\n",
    "                print(\"Precision = \",(tp)/(fp+tp))\n",
    "                p=(tp)/(fp+tp)\n",
    "                r=(tp)/(fn+tp)\n",
    "                print(\"F1 score =\",2*p*r/(p+r))\n",
    "\n",
    "    return clf,scaler\n",
    "\n"
   ]
  },
  {
   "cell_type": "markdown",
   "metadata": {},
   "source": [
    "# 1.Feature selection"
   ]
  },
  {
   "cell_type": "code",
   "execution_count": 4,
   "metadata": {},
   "outputs": [
    {
     "name": "stdout",
     "output_type": "stream",
     "text": [
      "<generator object feature_selection.<locals>.<genexpr> at 0x7fabefa82a40>\n",
      "__________Features used : ['vae_embeddings', 'drums_pitches_used', 'reduced_drums', 'velocity_metadata']_______\n",
      "tn,fp,fn,tp =  1579 36 52 352\n",
      "Accuracy =  0.9564140663694899\n",
      "Recall =  0.8712871287128713\n",
      "Precision =  0.9072164948453608\n",
      "F1 score = 0.8888888888888888\n",
      "<generator object feature_selection.<locals>.<genexpr> at 0x7fabefa82a40>\n",
      "__________Features used : ['offbeat_notes', 'drums_pitches_used', 'velocity_metadata']_______\n",
      "tn,fp,fn,tp =  1558 57 72 332\n",
      "Accuracy =  0.9361069836552749\n",
      "Recall =  0.8217821782178217\n",
      "Precision =  0.8534704370179949\n",
      "F1 score = 0.8373266078184111\n",
      "<generator object feature_selection.<locals>.<genexpr> at 0x7fabefa82a40>\n",
      "__________Features used : ['vae_embeddings']_______\n",
      "tn,fp,fn,tp =  1598 17 381 23\n",
      "Accuracy =  0.8028727092620109\n",
      "Recall =  0.05693069306930693\n",
      "Precision =  0.575\n",
      "F1 score = 0.1036036036036036\n",
      "<generator object feature_selection.<locals>.<genexpr> at 0x7fabefa82a40>\n",
      "__________Features used : ['offbeat_notes']_______\n",
      "tn,fp,fn,tp =  1614 1 404 0\n",
      "Accuracy =  0.799405646359584\n",
      "Recall =  0.0\n",
      "Precision =  0.0\n",
      "F1 score = nan\n",
      "<generator object feature_selection.<locals>.<genexpr> at 0x7fabefa82a40>\n"
     ]
    },
    {
     "name": "stderr",
     "output_type": "stream",
     "text": [
      "/usr/local/lib/python3.5/dist-packages/ipykernel_launcher.py:39: RuntimeWarning: invalid value encountered in double_scalars\n"
     ]
    },
    {
     "name": "stdout",
     "output_type": "stream",
     "text": [
      "__________Features used : ['drums_pitches_used']_______\n",
      "tn,fp,fn,tp =  1525 90 171 233\n",
      "Accuracy =  0.8707280832095097\n",
      "Recall =  0.5767326732673267\n",
      "Precision =  0.7213622291021672\n",
      "F1 score = 0.640990371389271\n",
      "<generator object feature_selection.<locals>.<genexpr> at 0x7fabefa82a40>\n",
      "__________Features used : ['velocity_metadata']_______\n",
      "tn,fp,fn,tp =  1535 80 85 319\n",
      "Accuracy =  0.9182763744427934\n",
      "Recall =  0.7896039603960396\n",
      "Precision =  0.7994987468671679\n",
      "F1 score = 0.7945205479452055\n",
      "<generator object feature_selection.<locals>.<genexpr> at 0x7fabefa82a40>\n",
      "__________Features used : ['drums_pitches_used', 'velocity_metadata', 'vae_embeddings']_______\n",
      "tn,fp,fn,tp =  1579 36 70 334\n",
      "Accuracy =  0.9474987617632491\n",
      "Recall =  0.8267326732673267\n",
      "Precision =  0.9027027027027027\n",
      "F1 score = 0.8630490956072351\n",
      "<generator object feature_selection.<locals>.<genexpr> at 0x7fabefa82a40>\n",
      "__________Features used : ['vae_embeddings', 'velocity_metadata']_______\n",
      "tn,fp,fn,tp =  1575 40 76 328\n",
      "Accuracy =  0.942545814759782\n",
      "Recall =  0.8118811881188119\n",
      "Precision =  0.8913043478260869\n",
      "F1 score = 0.8497409326424871\n",
      "<generator object feature_selection.<locals>.<genexpr> at 0x7fabefa82a40>\n",
      "__________Features used : ['random']_______\n",
      "tn,fp,fn,tp =  1615 0 404 0\n",
      "Accuracy =  0.7999009410599307\n",
      "Recall =  0.0\n",
      "Precision =  nan\n",
      "F1 score = nan\n"
     ]
    },
    {
     "name": "stderr",
     "output_type": "stream",
     "text": [
      "/usr/local/lib/python3.5/dist-packages/ipykernel_launcher.py:36: RuntimeWarning: invalid value encountered in long_scalars\n",
      "/usr/local/lib/python3.5/dist-packages/ipykernel_launcher.py:37: RuntimeWarning: invalid value encountered in long_scalars\n"
     ]
    }
   ],
   "source": [
    "list_list_label=[['vae_embeddings','drums_pitches_used','reduced_drums','velocity_metadata'],\n",
    "               ['offbeat_notes','drums_pitches_used','velocity_metadata'],\n",
    "               ['vae_embeddings'],\n",
    "               ['offbeat_notes'],\n",
    "               ['drums_pitches_used'],\n",
    "               ['velocity_metadata'],\n",
    "                 ['drums_pitches_used','velocity_metadata','vae_embeddings'],\n",
    "                 ['vae_embeddings','velocity_metadata'],\n",
    "                 ['random']\n",
    "]\n",
    "\n",
    "clf,scaler=feature_selection(scaler=True,cv=True,list_list_label=list_list_label)"
   ]
  },
  {
   "cell_type": "code",
   "execution_count": 5,
   "metadata": {},
   "outputs": [
    {
     "name": "stdout",
     "output_type": "stream",
     "text": [
      "<generator object feature_selection.<locals>.<genexpr> at 0x7fabefa82af0>\n",
      "<generator object feature_selection.<locals>.<genexpr> at 0x7fabefa82c50>\n"
     ]
    }
   ],
   "source": [
    "list_list_label=[['vae_embeddings','velocity_metadata']]\n",
    "             \n",
    "\n",
    "clf_l1,scaler=feature_selection(scaler=True,cv=True,list_list_label=list_list_label,penalty='l1',stats=False)\n",
    "clf_l2,scaler=feature_selection(scaler=True,cv=True,list_list_label=list_list_label,penalty='l2',stats=False)"
   ]
  },
  {
   "cell_type": "code",
   "execution_count": null,
   "metadata": {},
   "outputs": [],
   "source": []
  },
  {
   "cell_type": "code",
   "execution_count": 6,
   "metadata": {},
   "outputs": [],
   "source": [
    "name_pitches = ['bass drum','snare drum','closed hi-hat','open hi-hat','low tom','mid tom','high tom','crash cymbal','ride cymbal']\n",
    "name_features=['max_velocity','std_velocity','max_velocity']"
   ]
  },
  {
   "cell_type": "code",
   "execution_count": 9,
   "metadata": {},
   "outputs": [],
   "source": [
    "def stats_weights(clf):\n",
    "    coef=clf.coef_\n",
    "    coef=coef.reshape(-1)\n",
    "    print(\"------VAE EMBEDDINGS-------\")\n",
    "    print(coef[0:32])\n",
    "\n",
    "#     print(\"------OFFBEATS NOTES-------\")\n",
    "#     print(coef[32])\n",
    "\n",
    "    print(\"------VELOCITY METRICS-------\")\n",
    "    for i,pitch in enumerate(name_pitches):\n",
    "        for j,metric in enumerate(name_features):\n",
    "            print(metric+' of '+pitch,coef[32+i+j])\n",
    "        \n",
    "    print(\"------PITCHES USED-------\")\n",
    "    for i,pitch in enumerate(name_pitches):\n",
    "        print('use of '+pitch,coef[33+3*9+i])"
   ]
  },
  {
   "cell_type": "markdown",
   "metadata": {},
   "source": [
    "# 2. Magnitude of weights with L1 reg"
   ]
  },
  {
   "cell_type": "code",
   "execution_count": 11,
   "metadata": {},
   "outputs": [
    {
     "name": "stdout",
     "output_type": "stream",
     "text": [
      "------VAE EMBEDDINGS-------\n",
      "[ 0.9801162   0.65158922  0.58326857  1.32651732 -0.24319789 -1.88863305\n",
      " -0.09644014 -0.54634354  0.22567227  0.81888318 -0.03951306  1.26262003\n",
      " -0.0636314  -0.88569507 -0.44897394 -0.84277649  0.21091747 -0.84717056\n",
      " -0.2100739   0.36210882  0.21965828 -0.08105558 -0.05166368  0.42060268\n",
      " -0.60239727  0.65543686 -0.20817299 -1.47509021 -0.01119262  0.02910354\n",
      "  0.53153782  0.56184091]\n",
      "------VELOCITY METRICS-------\n",
      "max_velocity of bass drum 1.6179717759322259\n",
      "std_velocity of bass drum 0.09954478149722493\n",
      "max_velocity of bass drum 1.5461519856104988\n",
      "max_velocity of snare drum 0.09954478149722493\n",
      "std_velocity of snare drum 1.5461519856104988\n",
      "max_velocity of snare drum 0.7224091137998008\n",
      "max_velocity of closed hi-hat 1.5461519856104988\n",
      "std_velocity of closed hi-hat 0.7224091137998008\n",
      "max_velocity of closed hi-hat 0.12628133123583177\n",
      "max_velocity of open hi-hat 0.7224091137998008\n",
      "std_velocity of open hi-hat 0.12628133123583177\n",
      "max_velocity of open hi-hat 1.597405230567637\n",
      "max_velocity of low tom 0.12628133123583177\n",
      "std_velocity of low tom 1.597405230567637\n",
      "max_velocity of low tom 1.0326615718014402\n",
      "max_velocity of mid tom 1.597405230567637\n",
      "std_velocity of mid tom 1.0326615718014402\n",
      "max_velocity of mid tom 0.3970897905398465\n",
      "max_velocity of high tom 1.0326615718014402\n",
      "std_velocity of high tom 0.3970897905398465\n",
      "max_velocity of high tom -0.8122536268818121\n",
      "max_velocity of crash cymbal 0.3970897905398465\n",
      "std_velocity of crash cymbal -0.8122536268818121\n",
      "max_velocity of crash cymbal -1.071327735397677\n",
      "max_velocity of ride cymbal -0.8122536268818121\n",
      "std_velocity of ride cymbal -1.071327735397677\n",
      "max_velocity of ride cymbal 0.21223377239576605\n",
      "------PITCHES USED-------\n"
     ]
    },
    {
     "ename": "IndexError",
     "evalue": "index 60 is out of bounds for axis 0 with size 59",
     "traceback": [
      "\u001b[0;31m---------------------------------------------------------------------------\u001b[0m",
      "\u001b[0;31mIndexError\u001b[0m                                Traceback (most recent call last)",
      "\u001b[0;32m<ipython-input-11-3ad5a545f2e8>\u001b[0m in \u001b[0;36m<module>\u001b[0;34m()\u001b[0m\n\u001b[0;32m----> 1\u001b[0;31m \u001b[0mstats_weights\u001b[0m\u001b[0;34m(\u001b[0m\u001b[0mclf_l1\u001b[0m\u001b[0;34m)\u001b[0m\u001b[0;34m\u001b[0m\u001b[0m\n\u001b[0m",
      "\u001b[0;32m<ipython-input-9-1f9980a46b3a>\u001b[0m in \u001b[0;36mstats_weights\u001b[0;34m(clf)\u001b[0m\n\u001b[1;32m     15\u001b[0m     \u001b[0mprint\u001b[0m\u001b[0;34m(\u001b[0m\u001b[0;34m\"------PITCHES USED-------\"\u001b[0m\u001b[0;34m)\u001b[0m\u001b[0;34m\u001b[0m\u001b[0m\n\u001b[1;32m     16\u001b[0m     \u001b[0;32mfor\u001b[0m \u001b[0mi\u001b[0m\u001b[0;34m,\u001b[0m\u001b[0mpitch\u001b[0m \u001b[0;32min\u001b[0m \u001b[0menumerate\u001b[0m\u001b[0;34m(\u001b[0m\u001b[0mname_pitches\u001b[0m\u001b[0;34m)\u001b[0m\u001b[0;34m:\u001b[0m\u001b[0;34m\u001b[0m\u001b[0m\n\u001b[0;32m---> 17\u001b[0;31m         \u001b[0mprint\u001b[0m\u001b[0;34m(\u001b[0m\u001b[0;34m'use of '\u001b[0m\u001b[0;34m+\u001b[0m\u001b[0mpitch\u001b[0m\u001b[0;34m,\u001b[0m\u001b[0mcoef\u001b[0m\u001b[0;34m[\u001b[0m\u001b[0;36m33\u001b[0m\u001b[0;34m+\u001b[0m\u001b[0;36m3\u001b[0m\u001b[0;34m*\u001b[0m\u001b[0;36m9\u001b[0m\u001b[0;34m+\u001b[0m\u001b[0mi\u001b[0m\u001b[0;34m]\u001b[0m\u001b[0;34m)\u001b[0m\u001b[0;34m\u001b[0m\u001b[0m\n\u001b[0m",
      "\u001b[0;31mIndexError\u001b[0m: index 60 is out of bounds for axis 0 with size 59"
     ],
     "output_type": "error"
    }
   ],
   "source": [
    "stats_weights(clf_l1)"
   ]
  },
  {
   "cell_type": "markdown",
   "metadata": {},
   "source": [
    "# 3.Magnitude of weights with L2 reg"
   ]
  },
  {
   "cell_type": "code",
   "execution_count": null,
   "metadata": {},
   "outputs": [],
   "source": [
    "stats_weights(clf_l2)"
   ]
  },
  {
   "cell_type": "code",
   "execution_count": null,
   "metadata": {},
   "outputs": [],
   "source": [
    "from sklearn.externals import joblib\n",
    "s = joblib.dump(clf_l2,'clf_fills.pkl')\n"
   ]
  },
  {
   "cell_type": "markdown",
   "metadata": {},
   "source": [
    "# 4. Evaluate Generated model"
   ]
  },
  {
   "cell_type": "code",
   "execution_count": null,
   "metadata": {},
   "outputs": [],
   "source": [
    "list_list_label=[['vae_embeddings','velocity_metadata']]\n",
    "\n",
    "\n",
    "clf,scaler=feature_selection(scaler=True,cv=True,list_list_label=list_list_label)\n",
    "from sklearn.externals import joblib\n",
    "s = joblib.dump(clf,'clf_fills.pkl')\n",
    "s = joblib.dump(scaler,'scaler.pkl')\n",
    "\n"
   ]
  },
  {
   "cell_type": "code",
   "execution_count": null,
   "metadata": {},
   "outputs": [],
   "source": []
  }
 ],
 "metadata": {
  "kernelspec": {
   "display_name": "Python 3",
   "language": "python",
   "name": "python3"
  },
  "language_info": {
   "codemirror_mode": {
    "name": "ipython",
    "version": 3
   },
   "file_extension": ".py",
   "mimetype": "text/x-python",
   "name": "python",
   "nbconvert_exporter": "python",
   "pygments_lexer": "ipython3",
   "version": "3.5.2"
  }
 },
 "nbformat": 4,
 "nbformat_minor": 2
}
