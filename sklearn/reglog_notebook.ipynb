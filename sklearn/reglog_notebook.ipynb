{
 "cells": [
  {
   "cell_type": "code",
   "execution_count": 1,
   "metadata": {},
   "outputs": [],
   "source": [
    "import numpy as np\n",
    "from sklearn.metrics import confusion_matrix\n",
    "from sklearn.linear_model import LogisticRegressionCV\n",
    "from sklearn.linear_model import LogisticRegression\n",
    "from sklearn.model_selection import train_test_split\n",
    "from sklearn.preprocessing import StandardScaler\n"
   ]
  },
  {
   "cell_type": "code",
   "execution_count": 2,
   "metadata": {},
   "outputs": [
    {
     "name": "stdout",
     "output_type": "stream",
     "text": [
      "(6729, 3) random\n",
      "(6729, 12) genre\n",
      "(6729, 27) velocity_metadata\n",
      "(6729, 1) bpm\n",
      "(6729, 32) vae_embeddings\n",
      "(6729, 9) drums_pitches_used\n",
      "(6729, 2, 1) fills\n",
      "(6729, 2) dataset\n",
      "(6729, 1) offbeat_notes\n"
     ]
    }
   ],
   "source": [
    "path=\"/home/ftamagnan/dataset/\"\n",
    "name=\"total_metadata_training.npz\"\n",
    "data=dict(np.load(path+name))\n",
    "\n",
    "data[\"random\"]= np.random.rand(6729,3)\n",
    "\n",
    "\n",
    "data['vae_embeddings']=data['vae_embeddings'][:,0:32]\n",
    "for key in data.keys():\n",
    "    print(data[key].shape,key)"
   ]
  },
  {
   "cell_type": "code",
   "execution_count": 3,
   "metadata": {},
   "outputs": [],
   "source": [
    "def feature_selection(scaler=True,cv=True,list_list_label=[],penalty='l2',stats=True):\n",
    "\n",
    "    \n",
    "    \n",
    "    \n",
    "    for list_label in list_list_label:\n",
    "            list_x=[]\n",
    "            for key in data.keys():\n",
    "                if key in list_label:\n",
    "                    list_x.append(data[key])\n",
    "            print(x.shape for x in list_x)\n",
    "            X=np.concatenate(list_x,axis=1)\n",
    "            y=data['fills'][:,1].reshape(-1)\n",
    "            X_train, X_test, y_train, y_test = train_test_split(X, y, test_size=0.3, random_state=1)\n",
    "            if scaler:\n",
    "                scaler = StandardScaler()\n",
    "                scaler.fit(X_train)\n",
    "                X_train=scaler.transform(X_train)\n",
    "                X_test=scaler.transform(X_test)\n",
    "            \n",
    "            if cv:\n",
    "                clf = LogisticRegressionCV(cv=2, random_state=0,\n",
    "                                   multi_class='ovr',penalty=penalty,solver='liblinear',max_iter=300,n_jobs=-1).fit(X_train, y_train)\n",
    "            else:\n",
    "                clf = LogisticRegression(random_state=0,C=100000000).fit(X_train, y_train)\n",
    "\n",
    "            y_pred=clf.predict(X_test)\n",
    "            tn, fp, fn, tp=confusion_matrix(y_test, y_pred).ravel()\n",
    "            if stats:\n",
    "                print(\"__________Features used : \"+str(list_label)+\"_______\")\n",
    "                print(\"tn,fp,fn,tp = \",tn,fp,fn,tp)\n",
    "                print(\"Accuracy = \",(tp+tn)/(tn+fp+fn+tp))\n",
    "                print(\"Recall = \",(tp)/(fn+tp))\n",
    "                print(\"Precision = \",(tp)/(fp+tp))\n",
    "\n",
    "    return clf,scaler\n",
    "\n"
   ]
  },
  {
   "cell_type": "markdown",
   "metadata": {},
   "source": [
    "# 1.Feature selection"
   ]
  },
  {
   "cell_type": "code",
   "execution_count": 4,
   "metadata": {},
   "outputs": [
    {
     "name": "stdout",
     "output_type": "stream",
     "text": [
      "<generator object feature_selection.<locals>.<genexpr> at 0x7fb75c410d00>\n",
      "__________Features used : ['vae_embeddings', 'offbeat_notes', 'drums_pitches_used', 'velocity_metadata']_______\n",
      "tn,fp,fn,tp =  1578 37 68 336\n",
      "Accuracy =  0.9479940564635958\n",
      "Recall =  0.8316831683168316\n",
      "Precision =  0.900804289544236\n",
      "<generator object feature_selection.<locals>.<genexpr> at 0x7fb75c410d00>\n",
      "__________Features used : ['offbeat_notes', 'drums_pitches_used', 'velocity_metadata']_______\n",
      "tn,fp,fn,tp =  1558 57 72 332\n",
      "Accuracy =  0.9361069836552749\n",
      "Recall =  0.8217821782178217\n",
      "Precision =  0.8534704370179949\n",
      "<generator object feature_selection.<locals>.<genexpr> at 0x7fb75c410d00>\n",
      "__________Features used : ['vae_embeddings']_______\n",
      "tn,fp,fn,tp =  1598 17 381 23\n",
      "Accuracy =  0.8028727092620109\n",
      "Recall =  0.05693069306930693\n",
      "Precision =  0.575\n",
      "<generator object feature_selection.<locals>.<genexpr> at 0x7fb75c410d00>\n",
      "__________Features used : ['offbeat_notes']_______\n",
      "tn,fp,fn,tp =  1614 1 404 0\n",
      "Accuracy =  0.799405646359584\n",
      "Recall =  0.0\n",
      "Precision =  0.0\n",
      "<generator object feature_selection.<locals>.<genexpr> at 0x7fb75c410d00>\n",
      "__________Features used : ['drums_pitches_used']_______\n",
      "tn,fp,fn,tp =  1525 90 171 233\n",
      "Accuracy =  0.8707280832095097\n",
      "Recall =  0.5767326732673267\n",
      "Precision =  0.7213622291021672\n",
      "<generator object feature_selection.<locals>.<genexpr> at 0x7fb75c410d00>\n",
      "__________Features used : ['velocity_metadata']_______\n",
      "tn,fp,fn,tp =  1535 80 85 319\n",
      "Accuracy =  0.9182763744427934\n",
      "Recall =  0.7896039603960396\n",
      "Precision =  0.7994987468671679\n",
      "<generator object feature_selection.<locals>.<genexpr> at 0x7fb75c410d00>\n",
      "__________Features used : ['drums_pitches_used', 'velocity_metadata']_______\n",
      "tn,fp,fn,tp =  1546 69 78 326\n",
      "Accuracy =  0.9271916790490342\n",
      "Recall =  0.806930693069307\n",
      "Precision =  0.8253164556962025\n",
      "<generator object feature_selection.<locals>.<genexpr> at 0x7fb75c410d00>\n",
      "__________Features used : ['random']_______\n",
      "tn,fp,fn,tp =  1615 0 404 0\n",
      "Accuracy =  0.7999009410599307\n",
      "Recall =  0.0\n",
      "Precision =  nan\n"
     ]
    },
    {
     "name": "stderr",
     "output_type": "stream",
     "text": [
      "/usr/local/lib/python3.5/dist-packages/ipykernel_launcher.py:34: RuntimeWarning: invalid value encountered in long_scalars\n"
     ]
    }
   ],
   "source": [
    "list_list_label=[['vae_embeddings','offbeat_notes','drums_pitches_used','velocity_metadata'],\n",
    "               ['offbeat_notes','drums_pitches_used','velocity_metadata'],\n",
    "               ['vae_embeddings'],\n",
    "               ['offbeat_notes'],\n",
    "               ['drums_pitches_used'],\n",
    "               ['velocity_metadata'],\n",
    "                 ['drums_pitches_used','velocity_metadata'],\n",
    "                 ['random']\n",
    "]\n",
    "\n",
    "clf=feature_selection(scaler=True,cv=True,list_list_label=list_list_label)"
   ]
  },
  {
   "cell_type": "code",
   "execution_count": 5,
   "metadata": {},
   "outputs": [
    {
     "name": "stdout",
     "output_type": "stream",
     "text": [
      "<generator object feature_selection.<locals>.<genexpr> at 0x7fb702f1ae08>\n",
      "<generator object feature_selection.<locals>.<genexpr> at 0x7fb702f1adb0>\n"
     ]
    }
   ],
   "source": [
    "list_list_label=[['vae_embeddings','offbeat_notes','velocity_metadata','drums_pitches_used']]\n",
    "             \n",
    "\n",
    "clf_l1,scaler=feature_selection(scaler=True,cv=True,list_list_label=list_list_label,penalty='l1',stats=False)\n",
    "clf_l2,sclaler=feature_selection(scaler=True,cv=True,list_list_label=list_list_label,penalty='l2',stats=False)"
   ]
  },
  {
   "cell_type": "code",
   "execution_count": null,
   "metadata": {},
   "outputs": [],
   "source": []
  },
  {
   "cell_type": "code",
   "execution_count": 6,
   "metadata": {},
   "outputs": [],
   "source": [
    "name_pitches = ['bass drum','snare drum','closed hi-hat','open hi-hat','low tom','mid tom','high tom','crash cymbal','ride cymbal']\n",
    "name_features=['max_velocity','std_velocity','mean_velocity']"
   ]
  },
  {
   "cell_type": "code",
   "execution_count": 7,
   "metadata": {},
   "outputs": [],
   "source": [
    "def stats_weights(clf):\n",
    "    coef=clf.coef_\n",
    "    coef=coef.reshape(-1)\n",
    "    print(\"------VAE EMBEDDINGS-------\")\n",
    "    print(coef[0:32])\n",
    "\n",
    "    print(\"------OFFBEATS NOTES-------\")\n",
    "    print(coef[32])\n",
    "\n",
    "    print(\"------VELOCITY METRICS-------\")\n",
    "    \n",
    "    for j,metric in enumerate(name_features):\n",
    "        for i,pitch in enumerate(name_pitches):\n",
    "            print(metric+' of '+pitch,coef[33+i+j])\n",
    "        \n",
    "    print(\"------PITCHES USED-------\")\n",
    "    for i,pitch in enumerate(name_pitches):\n",
    "        print('use of '+pitch,coef[33+27+i])"
   ]
  },
  {
   "cell_type": "markdown",
   "metadata": {},
   "source": [
    "# 2. Magnitude of weights with L1 reg"
   ]
  },
  {
   "cell_type": "code",
   "execution_count": 8,
   "metadata": {},
   "outputs": [
    {
     "name": "stdout",
     "output_type": "stream",
     "text": [
      "------VAE EMBEDDINGS-------\n",
      "[ 2.76942522  1.13851913  0.89440939  1.0427611  -1.89837645  5.10677234\n",
      "  5.37745336  0.49847288  1.96436244 -1.46824549  0.21731868 -2.01756767\n",
      " -0.59754256  0.40211944 -0.89896712 -0.69948948  0.33382477  1.42142568\n",
      " -0.49768597  2.3556491   0.21348103 -0.21393681  1.15955125  0.08116335\n",
      " -0.0436974  -0.18668932 -1.54592114  0.58301164  0.90139587  0.60025448\n",
      "  1.05313109 -0.88254269]\n",
      "------OFFBEATS NOTES-------\n",
      "-2.253422282489577\n",
      "------VELOCITY METRICS-------\n",
      "max_velocity of bass drum -0.15964865707473438\n",
      "max_velocity of snare drum -1.1766276473693706\n",
      "max_velocity of closed hi-hat 0.21142807837965952\n",
      "max_velocity of open hi-hat 0.8215586699084011\n",
      "max_velocity of low tom 0.005158656662927975\n",
      "max_velocity of mid tom 1.5139960862663175\n",
      "max_velocity of high tom -0.09952471331962069\n",
      "max_velocity of crash cymbal -0.5906503345124842\n",
      "max_velocity of ride cymbal -0.27326641614583397\n",
      "std_velocity of bass drum -1.1766276473693706\n",
      "std_velocity of snare drum 0.21142807837965952\n",
      "std_velocity of closed hi-hat 0.8215586699084011\n",
      "std_velocity of open hi-hat 0.005158656662927975\n",
      "std_velocity of low tom 1.5139960862663175\n",
      "std_velocity of mid tom -0.09952471331962069\n",
      "std_velocity of high tom -0.5906503345124842\n",
      "std_velocity of crash cymbal -0.27326641614583397\n",
      "std_velocity of ride cymbal -0.4443072652260091\n",
      "mean_velocity of bass drum 0.21142807837965952\n",
      "mean_velocity of snare drum 0.8215586699084011\n",
      "mean_velocity of closed hi-hat 0.005158656662927975\n",
      "mean_velocity of open hi-hat 1.5139960862663175\n",
      "mean_velocity of low tom -0.09952471331962069\n",
      "mean_velocity of mid tom -0.5906503345124842\n",
      "mean_velocity of high tom -0.27326641614583397\n",
      "mean_velocity of crash cymbal -0.4443072652260091\n",
      "mean_velocity of ride cymbal 0.24272371550727365\n",
      "------PITCHES USED-------\n",
      "use of bass drum -1.271970508134848\n",
      "use of snare drum 0.5939551372330103\n",
      "use of closed hi-hat -0.5487699862762029\n",
      "use of open hi-hat 1.7110434626311049\n",
      "use of low tom -3.329004664404847\n",
      "use of mid tom -4.496291049564372\n",
      "use of high tom -0.30228920005710436\n",
      "use of crash cymbal -3.1012956317333513\n",
      "use of ride cymbal -1.1104066700167474\n"
     ]
    }
   ],
   "source": [
    "stats_weights(clf_l1)"
   ]
  },
  {
   "cell_type": "markdown",
   "metadata": {},
   "source": [
    "# 3.Magnitude of weights with L2 reg"
   ]
  },
  {
   "cell_type": "code",
   "execution_count": 9,
   "metadata": {},
   "outputs": [
    {
     "name": "stdout",
     "output_type": "stream",
     "text": [
      "------VAE EMBEDDINGS-------\n",
      "[ 2.76618267  1.13964093  0.89643796  1.04281582 -1.89736036  5.09162585\n",
      "  5.40346353  0.49869041  1.95736242 -1.46735169  0.21726742 -2.01971186\n",
      " -0.59548679  0.40230945 -0.89754724 -0.71839864  0.33757268  1.41789822\n",
      " -0.49783129  2.35600136  0.21454839 -0.21476633  1.15956504  0.08166183\n",
      " -0.03574484 -0.18820595 -1.54330845  0.58282973  0.89939565  0.59948761\n",
      "  1.05152925 -0.88213021]\n",
      "------OFFBEATS NOTES-------\n",
      "-2.2511989864090975\n",
      "------VELOCITY METRICS-------\n",
      "max_velocity of bass drum -0.15988603079816505\n",
      "max_velocity of snare drum -1.1757934957411653\n",
      "max_velocity of closed hi-hat 0.21102873778572406\n",
      "max_velocity of open hi-hat 0.8230040893451946\n",
      "max_velocity of low tom 0.004801844043177905\n",
      "max_velocity of mid tom 1.5127016317985764\n",
      "max_velocity of high tom -0.09915170775166497\n",
      "max_velocity of crash cymbal -0.5907916751734752\n",
      "max_velocity of ride cymbal -0.2738598279537835\n",
      "std_velocity of bass drum -1.1757934957411653\n",
      "std_velocity of snare drum 0.21102873778572406\n",
      "std_velocity of closed hi-hat 0.8230040893451946\n",
      "std_velocity of open hi-hat 0.004801844043177905\n",
      "std_velocity of low tom 1.5127016317985764\n",
      "std_velocity of mid tom -0.09915170775166497\n",
      "std_velocity of high tom -0.5907916751734752\n",
      "std_velocity of crash cymbal -0.2738598279537835\n",
      "std_velocity of ride cymbal -0.44708632887738164\n",
      "mean_velocity of bass drum 0.21102873778572406\n",
      "mean_velocity of snare drum 0.8230040893451946\n",
      "mean_velocity of closed hi-hat 0.004801844043177905\n",
      "mean_velocity of open hi-hat 1.5127016317985764\n",
      "mean_velocity of low tom -0.09915170775166497\n",
      "mean_velocity of mid tom -0.5907916751734752\n",
      "mean_velocity of high tom -0.2738598279537835\n",
      "mean_velocity of crash cymbal -0.44708632887738164\n",
      "mean_velocity of ride cymbal 0.24313111769602339\n",
      "------PITCHES USED-------\n",
      "use of bass drum -1.27315793136781\n",
      "use of snare drum 0.5935344756218527\n",
      "use of closed hi-hat -0.5502961647874167\n",
      "use of open hi-hat 1.7100928195055096\n",
      "use of low tom -3.314768916811508\n",
      "use of mid tom -4.511213599174558\n",
      "use of high tom -0.3046305171403212\n",
      "use of crash cymbal -3.091680018895882\n",
      "use of ride cymbal -1.1105108192893907\n"
     ]
    }
   ],
   "source": [
    "stats_weights(clf_l2)"
   ]
  },
  {
   "cell_type": "code",
   "execution_count": 10,
   "metadata": {},
   "outputs": [],
   "source": [
    "from sklearn.externals import joblib\n",
    "s = joblib.dump(clf_l2,'clf_fills.pkl')\n"
   ]
  },
  {
   "cell_type": "code",
   "execution_count": null,
   "metadata": {},
   "outputs": [],
   "source": []
  }
 ],
 "metadata": {
  "kernelspec": {
   "display_name": "Python 3",
   "language": "python",
   "name": "python3"
  },
  "language_info": {
   "codemirror_mode": {
    "name": "ipython",
    "version": 3
   },
   "file_extension": ".py",
   "mimetype": "text/x-python",
   "name": "python",
   "nbconvert_exporter": "python",
   "pygments_lexer": "ipython3",
   "version": "3.5.2"
  }
 },
 "nbformat": 4,
 "nbformat_minor": 2
}
