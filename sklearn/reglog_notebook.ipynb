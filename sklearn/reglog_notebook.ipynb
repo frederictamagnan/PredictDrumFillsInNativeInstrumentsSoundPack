{
 "cells": [
  {
   "cell_type": "code",
   "execution_count": 1,
   "metadata": {},
   "outputs": [],
   "source": [
    "import numpy as np\n",
    "from sklearn.metrics import confusion_matrix\n",
    "from sklearn.linear_model import LogisticRegressionCV\n",
    "from sklearn.linear_model import LogisticRegression\n",
    "from sklearn.model_selection import train_test_split\n",
    "from sklearn.preprocessing import StandardScaler\n"
   ]
  },
  {
   "cell_type": "code",
   "execution_count": 2,
   "metadata": {},
   "outputs": [
    {
     "name": "stdout",
     "output_type": "stream",
     "text": [
      "(6729, 1) bpm\n",
      "(6729, 3) random\n",
      "(6729, 9) drums_pitches_used\n",
      "(6729, 32) vae_embeddings\n",
      "(6729, 36) velocity_metadata\n",
      "(6729, 1) offbeat_notes\n",
      "(6729, 2) dataset\n",
      "(6729, 12) genre\n",
      "(6729, 2, 1) fills\n"
     ]
    }
   ],
   "source": [
    "path=\"/home/ftamagnan/dataset/\"\n",
    "name=\"total_metadata_training.npz\"\n",
    "data=dict(np.load(path+name))\n",
    "\n",
    "data[\"random\"]= np.random.rand(6729,3)\n",
    "\n",
    "\n",
    "data['vae_embeddings']=data['vae_embeddings'][:,0:32]\n",
    "for key in data.keys():\n",
    "    print(data[key].shape,key)"
   ]
  },
  {
   "cell_type": "code",
   "execution_count": 3,
   "metadata": {},
   "outputs": [],
   "source": [
    "def feature_selection(scaler=True,cv=True,list_list_label=[],penalty='l2',stats=True):\n",
    "\n",
    "    \n",
    "    \n",
    "    \n",
    "    for list_label in list_list_label:\n",
    "            list_x=[]\n",
    "            for key in data.keys():\n",
    "                if key in list_label:\n",
    "                    list_x.append(data[key])\n",
    "            print(x.shape for x in list_x)\n",
    "            X=np.concatenate(list_x,axis=1)\n",
    "            y=data['fills'][:,1].reshape(-1)\n",
    "            X_train, X_test, y_train, y_test = train_test_split(X, y, test_size=0.3, random_state=1)\n",
    "            if scaler:\n",
    "                scaler = StandardScaler()\n",
    "                scaler.fit(X_train)\n",
    "                X_train=scaler.transform(X_train)\n",
    "                X_test=scaler.transform(X_test)\n",
    "            \n",
    "            if cv:\n",
    "                clf = LogisticRegressionCV(cv=2, random_state=0,\n",
    "                                   multi_class='ovr',penalty=penalty,solver='liblinear',max_iter=300,n_jobs=-1).fit(X_train, y_train)\n",
    "            else:\n",
    "                clf = LogisticRegression(random_state=0,C=100000000).fit(X_train, y_train)\n",
    "\n",
    "            y_pred=clf.predict(X_test)\n",
    "            tn, fp, fn, tp=confusion_matrix(y_test, y_pred).ravel()\n",
    "            if stats:\n",
    "                print(\"__________Features used : \"+str(list_label)+\"_______\")\n",
    "                print(\"tn,fp,fn,tp = \",tn,fp,fn,tp)\n",
    "                print(\"Accuracy = \",(tp+tn)/(tn+fp+fn+tp))\n",
    "                print(\"Recall = \",(tp)/(fn+tp))\n",
    "                print(\"Precision = \",(tp)/(fp+tp))\n",
    "\n",
    "    return clf\n",
    "\n"
   ]
  },
  {
   "cell_type": "markdown",
   "metadata": {},
   "source": [
    "# 1.Feature selection"
   ]
  },
  {
   "cell_type": "code",
   "execution_count": 4,
   "metadata": {},
   "outputs": [
    {
     "name": "stdout",
     "output_type": "stream",
     "text": [
      "<generator object feature_selection.<locals>.<genexpr> at 0x7f1ae6678888>\n",
      "__________Features used : ['vae_embeddings', 'offbeat_notes', 'drums_pitches_used', 'velocity_metadata']_______\n",
      "tn,fp,fn,tp =  1582 33 67 337\n",
      "Accuracy =  0.9504705299653293\n",
      "Recall =  0.8341584158415841\n",
      "Precision =  0.9108108108108108\n",
      "<generator object feature_selection.<locals>.<genexpr> at 0x7f1ae6678888>\n",
      "__________Features used : ['offbeat_notes', 'drums_pitches_used', 'velocity_metadata']_______\n",
      "tn,fp,fn,tp =  1567 48 67 337\n",
      "Accuracy =  0.9430411094601288\n",
      "Recall =  0.8341584158415841\n",
      "Precision =  0.8753246753246753\n",
      "<generator object feature_selection.<locals>.<genexpr> at 0x7f1ae6678888>\n",
      "__________Features used : ['vae_embeddings']_______\n",
      "tn,fp,fn,tp =  1598 17 381 23\n",
      "Accuracy =  0.8028727092620109\n",
      "Recall =  0.05693069306930693\n",
      "Precision =  0.575\n",
      "<generator object feature_selection.<locals>.<genexpr> at 0x7f1ae6678888>\n",
      "__________Features used : ['offbeat_notes']_______\n",
      "tn,fp,fn,tp =  1614 1 404 0\n",
      "Accuracy =  0.799405646359584\n",
      "Recall =  0.0\n",
      "Precision =  0.0\n",
      "<generator object feature_selection.<locals>.<genexpr> at 0x7f1ae6678888>\n",
      "__________Features used : ['drums_pitches_used']_______\n",
      "tn,fp,fn,tp =  1525 90 171 233\n",
      "Accuracy =  0.8707280832095097\n",
      "Recall =  0.5767326732673267\n",
      "Precision =  0.7213622291021672\n",
      "<generator object feature_selection.<locals>.<genexpr> at 0x7f1ae6678888>\n",
      "__________Features used : ['velocity_metadata']_______\n",
      "tn,fp,fn,tp =  1551 64 82 322\n",
      "Accuracy =  0.9276869737493809\n",
      "Recall =  0.7970297029702971\n",
      "Precision =  0.8341968911917098\n",
      "<generator object feature_selection.<locals>.<genexpr> at 0x7f1ae6678888>\n",
      "__________Features used : ['drums_pitches_used', 'velocity_metadata']_______\n",
      "tn,fp,fn,tp =  1551 64 79 325\n",
      "Accuracy =  0.929172857850421\n",
      "Recall =  0.8044554455445545\n",
      "Precision =  0.8354755784061697\n",
      "<generator object feature_selection.<locals>.<genexpr> at 0x7f1ae6678888>\n",
      "__________Features used : ['random']_______\n",
      "tn,fp,fn,tp =  1615 0 404 0\n",
      "Accuracy =  0.7999009410599307\n",
      "Recall =  0.0\n",
      "Precision =  nan\n"
     ]
    },
    {
     "name": "stderr",
     "output_type": "stream",
     "text": [
      "/usr/local/lib/python3.5/dist-packages/ipykernel_launcher.py:34: RuntimeWarning: invalid value encountered in long_scalars\n"
     ]
    }
   ],
   "source": [
    "list_list_label=[['vae_embeddings','offbeat_notes','drums_pitches_used','velocity_metadata'],\n",
    "               ['offbeat_notes','drums_pitches_used','velocity_metadata'],\n",
    "               ['vae_embeddings'],\n",
    "               ['offbeat_notes'],\n",
    "               ['drums_pitches_used'],\n",
    "               ['velocity_metadata'],\n",
    "                 ['drums_pitches_used','velocity_metadata'],\n",
    "                 ['random']\n",
    "]\n",
    "\n",
    "clf=feature_selection(scaler=True,cv=True,list_list_label=list_list_label)"
   ]
  },
  {
   "cell_type": "code",
   "execution_count": 5,
   "metadata": {},
   "outputs": [
    {
     "name": "stdout",
     "output_type": "stream",
     "text": [
      "<generator object feature_selection.<locals>.<genexpr> at 0x7f1ae6699e08>\n",
      "<generator object feature_selection.<locals>.<genexpr> at 0x7f1b403b2d00>\n"
     ]
    }
   ],
   "source": [
    "list_list_label=[['vae_embeddings','offbeat_notes','velocity_metadata','drums_pitches_used']]\n",
    "             \n",
    "\n",
    "clf_l1=feature_selection(scaler=True,cv=True,list_list_label=list_list_label,penalty='l1',stats=False)\n",
    "clf_l2=feature_selection(scaler=True,cv=True,list_list_label=list_list_label,penalty='l2',stats=False)"
   ]
  },
  {
   "cell_type": "code",
   "execution_count": null,
   "metadata": {},
   "outputs": [],
   "source": []
  },
  {
   "cell_type": "code",
   "execution_count": 6,
   "metadata": {},
   "outputs": [],
   "source": [
    "name_pitches = ['bass drum','snare drum','closed hi-hat','open hi-hat','low tom','mid tom','high tom','crash cymbal','ride cymbal']\n",
    "name_features=['min_velocity','max_velocity','std_velocity','max_velocity']"
   ]
  },
  {
   "cell_type": "code",
   "execution_count": 7,
   "metadata": {},
   "outputs": [],
   "source": [
    "def stats_weights(clf):\n",
    "    coef=clf.coef_\n",
    "    coef=coef.reshape(-1)\n",
    "    print(\"------VAE EMBEDDINGS-------\")\n",
    "    print(coef[0:32])\n",
    "\n",
    "    print(\"------OFFBEATS NOTES-------\")\n",
    "    print(coef[32])\n",
    "\n",
    "    print(\"------VELOCITY METRICS-------\")\n",
    "    for i,pitch in enumerate(name_pitches):\n",
    "        for j,metric in enumerate(name_features):\n",
    "            print(metric+' of '+pitch,coef[33+i+j])\n",
    "        \n",
    "    print(\"------PITCHES USED-------\")\n",
    "    for i,pitch in enumerate(name_pitches):\n",
    "        print('use of '+pitch,coef[33+36+i])"
   ]
  },
  {
   "cell_type": "markdown",
   "metadata": {},
   "source": [
    "# 2. Magnitude of weights with L1 reg"
   ]
  },
  {
   "cell_type": "code",
   "execution_count": 8,
   "metadata": {},
   "outputs": [
    {
     "name": "stdout",
     "output_type": "stream",
     "text": [
      "------VAE EMBEDDINGS-------\n",
      "[-1.01873577 -1.18969263  0.70587622 -0.18344703  0.58140306 -2.85148953\n",
      " -3.04416831 -0.0173172  -1.8305815   0.51281467  0.50442477  0.50443441\n",
      "  0.7441349  -0.70086569 -1.41113827 -0.20620589 -0.90768445  0.22066152\n",
      "  0.52801773 -0.05157782  1.11896297 -0.02349166 -0.52808708 -0.23113492\n",
      " -0.34061621  0.14853199 -0.40996908 -0.18390271  0.06022144  0.15693987\n",
      " -0.22455539 -0.43929968]\n",
      "------OFFBEATS NOTES-------\n",
      "0.007825148661606806\n",
      "------VELOCITY METRICS-------\n",
      "min_velocity of bass drum -0.5685986489702152\n",
      "max_velocity of bass drum 0.08846585942092912\n",
      "std_velocity of bass drum -0.10044688400476565\n",
      "max_velocity of bass drum -0.6165812396612288\n",
      "min_velocity of snare drum 0.08846585942092912\n",
      "max_velocity of snare drum -0.10044688400476565\n",
      "std_velocity of snare drum -0.6165812396612288\n",
      "max_velocity of snare drum 0.09199187929430476\n",
      "min_velocity of closed hi-hat -0.10044688400476565\n",
      "max_velocity of closed hi-hat -0.6165812396612288\n",
      "std_velocity of closed hi-hat 0.09199187929430476\n",
      "max_velocity of closed hi-hat -0.08146685917244333\n",
      "min_velocity of open hi-hat -0.6165812396612288\n",
      "max_velocity of open hi-hat 0.09199187929430476\n",
      "std_velocity of open hi-hat -0.08146685917244333\n",
      "max_velocity of open hi-hat 0.24249641830374793\n",
      "min_velocity of low tom 0.09199187929430476\n",
      "max_velocity of low tom -0.08146685917244333\n",
      "std_velocity of low tom 0.24249641830374793\n",
      "max_velocity of low tom 0.9932382084244155\n",
      "min_velocity of mid tom -0.08146685917244333\n",
      "max_velocity of mid tom 0.24249641830374793\n",
      "std_velocity of mid tom 0.9932382084244155\n",
      "max_velocity of mid tom 0.0\n",
      "min_velocity of high tom 0.24249641830374793\n",
      "max_velocity of high tom 0.9932382084244155\n",
      "std_velocity of high tom 0.0\n",
      "max_velocity of high tom 0.0\n",
      "min_velocity of crash cymbal 0.9932382084244155\n",
      "max_velocity of crash cymbal 0.0\n",
      "std_velocity of crash cymbal 0.0\n",
      "max_velocity of crash cymbal 0.0\n",
      "min_velocity of ride cymbal 0.0\n",
      "max_velocity of ride cymbal 0.0\n",
      "std_velocity of ride cymbal 0.0\n",
      "max_velocity of ride cymbal 0.0\n",
      "------PITCHES USED-------\n",
      "use of bass drum 1.42743670904408\n",
      "use of snare drum -0.5995835603962472\n",
      "use of closed hi-hat -0.4710550000249158\n",
      "use of open hi-hat 1.1411341295922082\n",
      "use of low tom -0.2632507812106648\n",
      "use of mid tom -0.1918727304043975\n",
      "use of high tom 0.06717522300817003\n",
      "use of crash cymbal -0.5103984207498218\n",
      "use of ride cymbal -1.0527331015042396\n"
     ]
    }
   ],
   "source": [
    "stats_weights(clf_l2)"
   ]
  },
  {
   "cell_type": "markdown",
   "metadata": {},
   "source": [
    "# 3.Magnitude of weights with L2 reg"
   ]
  },
  {
   "cell_type": "code",
   "execution_count": 9,
   "metadata": {},
   "outputs": [
    {
     "name": "stdout",
     "output_type": "stream",
     "text": [
      "------VAE EMBEDDINGS-------\n",
      "[-1.01873577 -1.18969263  0.70587622 -0.18344703  0.58140306 -2.85148953\n",
      " -3.04416831 -0.0173172  -1.8305815   0.51281467  0.50442477  0.50443441\n",
      "  0.7441349  -0.70086569 -1.41113827 -0.20620589 -0.90768445  0.22066152\n",
      "  0.52801773 -0.05157782  1.11896297 -0.02349166 -0.52808708 -0.23113492\n",
      " -0.34061621  0.14853199 -0.40996908 -0.18390271  0.06022144  0.15693987\n",
      " -0.22455539 -0.43929968]\n",
      "------OFFBEATS NOTES-------\n",
      "0.007825148661606806\n",
      "------VELOCITY METRICS-------\n",
      "min_velocity of bass drum -0.5685986489702152\n",
      "max_velocity of bass drum 0.08846585942092912\n",
      "std_velocity of bass drum -0.10044688400476565\n",
      "max_velocity of bass drum -0.6165812396612288\n",
      "min_velocity of snare drum 0.08846585942092912\n",
      "max_velocity of snare drum -0.10044688400476565\n",
      "std_velocity of snare drum -0.6165812396612288\n",
      "max_velocity of snare drum 0.09199187929430476\n",
      "min_velocity of closed hi-hat -0.10044688400476565\n",
      "max_velocity of closed hi-hat -0.6165812396612288\n",
      "std_velocity of closed hi-hat 0.09199187929430476\n",
      "max_velocity of closed hi-hat -0.08146685917244333\n",
      "min_velocity of open hi-hat -0.6165812396612288\n",
      "max_velocity of open hi-hat 0.09199187929430476\n",
      "std_velocity of open hi-hat -0.08146685917244333\n",
      "max_velocity of open hi-hat 0.24249641830374793\n",
      "min_velocity of low tom 0.09199187929430476\n",
      "max_velocity of low tom -0.08146685917244333\n",
      "std_velocity of low tom 0.24249641830374793\n",
      "max_velocity of low tom 0.9932382084244155\n",
      "min_velocity of mid tom -0.08146685917244333\n",
      "max_velocity of mid tom 0.24249641830374793\n",
      "std_velocity of mid tom 0.9932382084244155\n",
      "max_velocity of mid tom 0.0\n",
      "min_velocity of high tom 0.24249641830374793\n",
      "max_velocity of high tom 0.9932382084244155\n",
      "std_velocity of high tom 0.0\n",
      "max_velocity of high tom 0.0\n",
      "min_velocity of crash cymbal 0.9932382084244155\n",
      "max_velocity of crash cymbal 0.0\n",
      "std_velocity of crash cymbal 0.0\n",
      "max_velocity of crash cymbal 0.0\n",
      "min_velocity of ride cymbal 0.0\n",
      "max_velocity of ride cymbal 0.0\n",
      "std_velocity of ride cymbal 0.0\n",
      "max_velocity of ride cymbal 0.0\n",
      "------PITCHES USED-------\n",
      "use of bass drum 1.42743670904408\n",
      "use of snare drum -0.5995835603962472\n",
      "use of closed hi-hat -0.4710550000249158\n",
      "use of open hi-hat 1.1411341295922082\n",
      "use of low tom -0.2632507812106648\n",
      "use of mid tom -0.1918727304043975\n",
      "use of high tom 0.06717522300817003\n",
      "use of crash cymbal -0.5103984207498218\n",
      "use of ride cymbal -1.0527331015042396\n"
     ]
    }
   ],
   "source": [
    "stats_weights(clf_l2)"
   ]
  },
  {
   "cell_type": "code",
   "execution_count": 17,
   "metadata": {},
   "outputs": [],
   "source": [
    "from sklearn.externals import joblib\n",
    "s = joblib.dump(clf_l2,'clf_fills.pkl')\n"
   ]
  },
  {
   "cell_type": "code",
   "execution_count": null,
   "metadata": {},
   "outputs": [],
   "source": []
  }
 ],
 "metadata": {
  "kernelspec": {
   "display_name": "Python 3",
   "language": "python",
   "name": "python3"
  },
  "language_info": {
   "codemirror_mode": {
    "name": "ipython",
    "version": 3
   },
   "file_extension": ".py",
   "mimetype": "text/x-python",
   "name": "python",
   "nbconvert_exporter": "python",
   "pygments_lexer": "ipython3",
   "version": "3.5.2"
  }
 },
 "nbformat": 4,
 "nbformat_minor": 2
}
