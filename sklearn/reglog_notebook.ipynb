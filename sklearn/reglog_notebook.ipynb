{
 "cells": [
  {
   "cell_type": "code",
   "execution_count": 1,
   "metadata": {},
   "outputs": [],
   "source": [
    "import numpy as np\n",
    "from sklearn.metrics import confusion_matrix\n",
    "from sklearn.linear_model import LogisticRegressionCV\n",
    "from sklearn.linear_model import LogisticRegression\n",
    "from sklearn.model_selection import train_test_split\n",
    "from sklearn.preprocessing import StandardScaler\n"
   ]
  },
  {
   "cell_type": "code",
   "execution_count": 2,
   "metadata": {},
   "outputs": [
    {
     "name": "stdout",
     "output_type": "stream",
     "text": [
      "(6729, 12) genre\n",
      "(6729, 2) dataset\n",
      "(6729, 32) vae_embeddings\n",
      "(6729, 9) drums_pitches_used\n",
      "(6729, 1) offbeat_notes\n",
      "(6729, 9) count\n",
      "(6729, 144) reduced_drums\n",
      "(6729, 27) velocity_metadata\n",
      "(6729, 3) random\n",
      "(6729, 2, 1) fills\n",
      "(6729, 1) bpm\n",
      "(6729, 144) reduced_drums_velocity\n"
     ]
    }
   ],
   "source": [
    "path=\"/home/ftamagnan/dataset/\"\n",
    "name=\"total_metadata_training.npz\"\n",
    "data=dict(np.load(path+name))\n",
    "\n",
    "data[\"random\"]= np.random.rand(6729,3)\n",
    "\n",
    "\n",
    "data['vae_embeddings']=data['vae_embeddings'][:,0:32]\n",
    "for key in data.keys():\n",
    "    print(data[key].shape,key)"
   ]
  },
  {
   "cell_type": "code",
   "execution_count": 3,
   "metadata": {},
   "outputs": [],
   "source": [
    "def feature_selection(scaler=True,cv=True,list_list_label=[],penalty='l2',stats=True):\n",
    "\n",
    "    \n",
    "    \n",
    "    \n",
    "    for list_label in list_list_label:\n",
    "            list_x=[]\n",
    "            for key in data.keys():\n",
    "                if key in list_label:\n",
    "                    list_x.append(data[key])\n",
    "            print(x.shape for x in list_x)\n",
    "            X=np.concatenate(list_x,axis=1)\n",
    "            y=data['fills'][:,1].reshape(-1)\n",
    "            X_train, X_test, y_train, y_test = train_test_split(X, y, test_size=0.3, random_state=1)\n",
    "            if scaler:\n",
    "                scaler = StandardScaler()\n",
    "                scaler.fit(X_train)\n",
    "                X_train=scaler.transform(X_train)\n",
    "                X_test=scaler.transform(X_test)\n",
    "            \n",
    "            if cv:\n",
    "                clf = LogisticRegressionCV(cv=2, random_state=0,\n",
    "                                   multi_class='ovr',penalty=penalty,solver='liblinear',max_iter=300,n_jobs=-1).fit(X_train, y_train)\n",
    "            else:\n",
    "                clf = LogisticRegression(random_state=0,C=100000000).fit(X_train, y_train)\n",
    "\n",
    "#             y_pred=clf.predict(X_test)\n",
    "            y_pred=(clf.predict_proba(X_test)>0.7)*1\n",
    "            y_pred=y_pred[:,1]\n",
    "            tn, fp, fn, tp=confusion_matrix(y_test, y_pred).ravel()\n",
    "            if stats:\n",
    "                print(\"__________Features used : \"+str(list_label)+\"_______\")\n",
    "                print(\"tn,fp,fn,tp = \",tn,fp,fn,tp)\n",
    "                print(\"Accuracy = \",(tp+tn)/(tn+fp+fn+tp))\n",
    "                print(\"Recall = \",(tp)/(fn+tp))\n",
    "                print(\"Precision = \",(tp)/(fp+tp))\n",
    "\n",
    "    return clf\n",
    "\n"
   ]
  },
  {
   "cell_type": "markdown",
   "metadata": {},
   "source": [
    "# 1.Feature selection"
   ]
  },
  {
   "cell_type": "code",
   "execution_count": 4,
   "metadata": {},
   "outputs": [
    {
     "name": "stdout",
     "output_type": "stream",
     "text": [
      "<generator object feature_selection.<locals>.<genexpr> at 0x7fd1d0f3fd00>\n",
      "__________Features used : ['vae_embeddings', 'drums_pitches_used', 'reduced_drums', 'velocity_metadata']_______\n",
      "tn,fp,fn,tp =  1597 18 73 331\n",
      "Accuracy =  0.9549281822684498\n",
      "Recall =  0.8193069306930693\n",
      "Precision =  0.9484240687679083\n",
      "<generator object feature_selection.<locals>.<genexpr> at 0x7fd1d0f3fd00>\n",
      "__________Features used : ['offbeat_notes', 'drums_pitches_used', 'velocity_metadata']_______\n",
      "tn,fp,fn,tp =  1589 26 99 305\n",
      "Accuracy =  0.9380881624566617\n",
      "Recall =  0.754950495049505\n",
      "Precision =  0.9214501510574018\n",
      "<generator object feature_selection.<locals>.<genexpr> at 0x7fd1d0f3fd00>\n",
      "__________Features used : ['vae_embeddings']_______\n",
      "tn,fp,fn,tp =  1615 0 401 3\n",
      "Accuracy =  0.8013868251609708\n",
      "Recall =  0.007425742574257425\n",
      "Precision =  1.0\n",
      "<generator object feature_selection.<locals>.<genexpr> at 0x7fd1d0f3fd00>\n",
      "__________Features used : ['offbeat_notes']_______\n",
      "tn,fp,fn,tp =  1615 0 404 0\n",
      "Accuracy =  0.7999009410599307\n",
      "Recall =  0.0\n",
      "Precision =  nan\n",
      "<generator object feature_selection.<locals>.<genexpr> at 0x7fd1d0f3fd00>\n"
     ]
    },
    {
     "name": "stderr",
     "output_type": "stream",
     "text": [
      "/usr/local/lib/python3.5/dist-packages/ipykernel_launcher.py:36: RuntimeWarning: invalid value encountered in long_scalars\n"
     ]
    },
    {
     "name": "stdout",
     "output_type": "stream",
     "text": [
      "__________Features used : ['drums_pitches_used']_______\n",
      "tn,fp,fn,tp =  1586 29 215 189\n",
      "Accuracy =  0.8791480931154037\n",
      "Recall =  0.46782178217821785\n",
      "Precision =  0.8669724770642202\n",
      "<generator object feature_selection.<locals>.<genexpr> at 0x7fd1d0f3fd00>\n",
      "__________Features used : ['velocity_metadata']_______\n",
      "tn,fp,fn,tp =  1585 30 138 266\n",
      "Accuracy =  0.9167904903417533\n",
      "Recall =  0.6584158415841584\n",
      "Precision =  0.8986486486486487\n",
      "<generator object feature_selection.<locals>.<genexpr> at 0x7fd1d0f3fd00>\n",
      "__________Features used : ['drums_pitches_used', 'velocity_metadata', 'vae_embeddings']_______\n",
      "tn,fp,fn,tp =  1600 15 96 308\n",
      "Accuracy =  0.9450222882615156\n",
      "Recall =  0.7623762376237624\n",
      "Precision =  0.9535603715170279\n",
      "<generator object feature_selection.<locals>.<genexpr> at 0x7fd1d0f3fd00>\n",
      "__________Features used : ['vae_embeddings', 'velocity_metadata']_______\n",
      "tn,fp,fn,tp =  1597 18 101 303\n",
      "Accuracy =  0.9410599306587419\n",
      "Recall =  0.75\n",
      "Precision =  0.9439252336448598\n",
      "<generator object feature_selection.<locals>.<genexpr> at 0x7fd1d0f3fd00>\n",
      "__________Features used : ['random']_______\n",
      "tn,fp,fn,tp =  1615 0 404 0\n",
      "Accuracy =  0.7999009410599307\n",
      "Recall =  0.0\n",
      "Precision =  nan\n"
     ]
    }
   ],
   "source": [
    "list_list_label=[['vae_embeddings','drums_pitches_used','reduced_drums','velocity_metadata'],\n",
    "               ['offbeat_notes','drums_pitches_used','velocity_metadata'],\n",
    "               ['vae_embeddings'],\n",
    "               ['offbeat_notes'],\n",
    "               ['drums_pitches_used'],\n",
    "               ['velocity_metadata'],\n",
    "                 ['drums_pitches_used','velocity_metadata','vae_embeddings'],\n",
    "                 ['vae_embeddings','velocity_metadata'],\n",
    "                 ['random']\n",
    "]\n",
    "\n",
    "clf=feature_selection(scaler=True,cv=True,list_list_label=list_list_label)"
   ]
  },
  {
   "cell_type": "code",
   "execution_count": 5,
   "metadata": {},
   "outputs": [
    {
     "name": "stdout",
     "output_type": "stream",
     "text": [
      "<generator object feature_selection.<locals>.<genexpr> at 0x7fd178a09f68>\n",
      "<generator object feature_selection.<locals>.<genexpr> at 0x7fd1789e96d0>\n"
     ]
    }
   ],
   "source": [
    "list_list_label=[['vae_embeddings','offbeat_notes','velocity_metadata','drums_pitches_used']]\n",
    "             \n",
    "\n",
    "clf_l1=feature_selection(scaler=True,cv=True,list_list_label=list_list_label,penalty='l1',stats=False)\n",
    "clf_l2=feature_selection(scaler=True,cv=True,list_list_label=list_list_label,penalty='l2',stats=False)"
   ]
  },
  {
   "cell_type": "code",
   "execution_count": null,
   "metadata": {},
   "outputs": [],
   "source": []
  },
  {
   "cell_type": "code",
   "execution_count": 6,
   "metadata": {},
   "outputs": [],
   "source": [
    "name_pitches = ['bass drum','snare drum','closed hi-hat','open hi-hat','low tom','mid tom','high tom','crash cymbal','ride cymbal']\n",
    "name_features=['min_velocity','max_velocity','std_velocity','max_velocity']"
   ]
  },
  {
   "cell_type": "code",
   "execution_count": 7,
   "metadata": {},
   "outputs": [],
   "source": [
    "def stats_weights(clf):\n",
    "    coef=clf.coef_\n",
    "    coef=coef.reshape(-1)\n",
    "    print(\"------VAE EMBEDDINGS-------\")\n",
    "    print(coef[0:32])\n",
    "\n",
    "    print(\"------OFFBEATS NOTES-------\")\n",
    "    print(coef[32])\n",
    "\n",
    "    print(\"------VELOCITY METRICS-------\")\n",
    "    for i,pitch in enumerate(name_pitches):\n",
    "        for j,metric in enumerate(name_features):\n",
    "            print(metric+' of '+pitch,coef[33+i+j])\n",
    "        \n",
    "    print(\"------PITCHES USED-------\")\n",
    "    for i,pitch in enumerate(name_pitches):\n",
    "        print('use of '+pitch,coef[33+36+i])"
   ]
  },
  {
   "cell_type": "markdown",
   "metadata": {},
   "source": [
    "# 2. Magnitude of weights with L1 reg"
   ]
  },
  {
   "cell_type": "code",
   "execution_count": 8,
   "metadata": {},
   "outputs": [
    {
     "name": "stdout",
     "output_type": "stream",
     "text": [
      "------VAE EMBEDDINGS-------\n",
      "[ 0.58310116  0.8992127   0.59963014  1.05243392 -0.88202531 -2.25120946\n",
      " -0.15965417 -1.17643139  0.21114501  0.82294222  0.00543798  1.51258404\n",
      " -0.09930574 -0.59186962 -0.27383607 -0.44670175  0.24297558 -0.5932663\n",
      " -0.22021114  0.63486609  0.14769127 -0.24089146 -0.59438018  0.28598805\n",
      " -0.80220408  0.34224337 -0.22065621 -1.35613132  0.07671929 -0.1874723\n",
      "  0.43191542  0.80727847]\n",
      "------OFFBEATS NOTES-------\n",
      "-1.1978661365736374\n",
      "------VELOCITY METRICS-------\n",
      "min_velocity of bass drum -1.2728835322831005\n",
      "max_velocity of bass drum 0.5926272583010685\n",
      "std_velocity of bass drum -0.5496627480474168\n",
      "max_velocity of bass drum 1.7097605548387023\n",
      "min_velocity of snare drum 0.5926272583010685\n",
      "max_velocity of snare drum -0.5496627480474168\n",
      "std_velocity of snare drum 1.7097605548387023\n",
      "max_velocity of snare drum -3.3150939134244717\n",
      "min_velocity of closed hi-hat -0.5496627480474168\n",
      "max_velocity of closed hi-hat 1.7097605548387023\n",
      "std_velocity of closed hi-hat -3.3150939134244717\n",
      "max_velocity of closed hi-hat -4.513818859810885\n",
      "min_velocity of open hi-hat 1.7097605548387023\n",
      "max_velocity of open hi-hat -3.3150939134244717\n",
      "std_velocity of open hi-hat -4.513818859810885\n",
      "max_velocity of open hi-hat -0.3048671348372439\n",
      "min_velocity of low tom -3.3150939134244717\n",
      "max_velocity of low tom -4.513818859810885\n",
      "std_velocity of low tom -0.3048671348372439\n",
      "max_velocity of low tom -3.0931363374582697\n",
      "min_velocity of mid tom -4.513818859810885\n",
      "max_velocity of mid tom -0.3048671348372439\n",
      "std_velocity of mid tom -3.0931363374582697\n",
      "max_velocity of mid tom -1.1104783449203481\n",
      "min_velocity of high tom -0.3048671348372439\n",
      "max_velocity of high tom -3.0931363374582697\n",
      "std_velocity of high tom -1.1104783449203481\n",
      "max_velocity of high tom 2.7656072155915576\n",
      "min_velocity of crash cymbal -3.0931363374582697\n",
      "max_velocity of crash cymbal -1.1104783449203481\n",
      "std_velocity of crash cymbal 2.7656072155915576\n",
      "max_velocity of crash cymbal 1.139897622354727\n",
      "min_velocity of ride cymbal -1.1104783449203481\n",
      "max_velocity of ride cymbal 2.7656072155915576\n",
      "std_velocity of ride cymbal 1.139897622354727\n",
      "max_velocity of ride cymbal 0.8963866286176055\n",
      "------PITCHES USED-------\n"
     ]
    },
    {
     "ename": "IndexError",
     "evalue": "index 69 is out of bounds for axis 0 with size 69",
     "output_type": "error",
     "traceback": [
      "\u001b[0;31m---------------------------------------------------------------------------\u001b[0m",
      "\u001b[0;31mIndexError\u001b[0m                                Traceback (most recent call last)",
      "\u001b[0;32m<ipython-input-8-7336f002522e>\u001b[0m in \u001b[0;36m<module>\u001b[0;34m()\u001b[0m\n\u001b[0;32m----> 1\u001b[0;31m \u001b[0mstats_weights\u001b[0m\u001b[0;34m(\u001b[0m\u001b[0mclf_l2\u001b[0m\u001b[0;34m)\u001b[0m\u001b[0;34m\u001b[0m\u001b[0m\n\u001b[0m",
      "\u001b[0;32m<ipython-input-7-96ee6a16aa27>\u001b[0m in \u001b[0;36mstats_weights\u001b[0;34m(clf)\u001b[0m\n\u001b[1;32m     15\u001b[0m     \u001b[0mprint\u001b[0m\u001b[0;34m(\u001b[0m\u001b[0;34m\"------PITCHES USED-------\"\u001b[0m\u001b[0;34m)\u001b[0m\u001b[0;34m\u001b[0m\u001b[0m\n\u001b[1;32m     16\u001b[0m     \u001b[0;32mfor\u001b[0m \u001b[0mi\u001b[0m\u001b[0;34m,\u001b[0m\u001b[0mpitch\u001b[0m \u001b[0;32min\u001b[0m \u001b[0menumerate\u001b[0m\u001b[0;34m(\u001b[0m\u001b[0mname_pitches\u001b[0m\u001b[0;34m)\u001b[0m\u001b[0;34m:\u001b[0m\u001b[0;34m\u001b[0m\u001b[0m\n\u001b[0;32m---> 17\u001b[0;31m         \u001b[0mprint\u001b[0m\u001b[0;34m(\u001b[0m\u001b[0;34m'use of '\u001b[0m\u001b[0;34m+\u001b[0m\u001b[0mpitch\u001b[0m\u001b[0;34m,\u001b[0m\u001b[0mcoef\u001b[0m\u001b[0;34m[\u001b[0m\u001b[0;36m33\u001b[0m\u001b[0;34m+\u001b[0m\u001b[0;36m36\u001b[0m\u001b[0;34m+\u001b[0m\u001b[0mi\u001b[0m\u001b[0;34m]\u001b[0m\u001b[0;34m)\u001b[0m\u001b[0;34m\u001b[0m\u001b[0m\n\u001b[0m",
      "\u001b[0;31mIndexError\u001b[0m: index 69 is out of bounds for axis 0 with size 69"
     ]
    }
   ],
   "source": [
    "stats_weights(clf_l2)"
   ]
  },
  {
   "cell_type": "markdown",
   "metadata": {},
   "source": [
    "# 3.Magnitude of weights with L2 reg"
   ]
  },
  {
   "cell_type": "code",
   "execution_count": null,
   "metadata": {},
   "outputs": [],
   "source": [
    "stats_weights(clf_l2)"
   ]
  },
  {
   "cell_type": "code",
   "execution_count": 9,
   "metadata": {},
   "outputs": [],
   "source": [
    "from sklearn.externals import joblib\n",
    "s = joblib.dump(clf_l2,'clf_fills.pkl')\n"
   ]
  },
  {
   "cell_type": "markdown",
   "metadata": {},
   "source": [
    "# 4. Evaluate Generated model"
   ]
  },
  {
   "cell_type": "code",
   "execution_count": 11,
   "metadata": {},
   "outputs": [
    {
     "name": "stdout",
     "output_type": "stream",
     "text": [
      "<generator object feature_selection.<locals>.<genexpr> at 0x7fd1789e9780>\n",
      "__________Features used : ['vae_embeddings', 'count', 'drums_pitches_used']_______\n",
      "tn,fp,fn,tp =  1598 17 125 279\n",
      "Accuracy =  0.9296681525507677\n",
      "Recall =  0.6905940594059405\n",
      "Precision =  0.9425675675675675\n"
     ]
    }
   ],
   "source": [
    "list_list_label=[['vae_embeddings','count','drums_pitches_used']]\n",
    "\n",
    "\n",
    "clf=feature_selection(scaler=True,cv=True,list_list_label=list_list_label)\n"
   ]
  },
  {
   "cell_type": "code",
   "execution_count": null,
   "metadata": {},
   "outputs": [],
   "source": []
  }
 ],
 "metadata": {
  "kernelspec": {
   "display_name": "Python 3",
   "language": "python",
   "name": "python3"
  },
  "language_info": {
   "codemirror_mode": {
    "name": "ipython",
    "version": 3
   },
   "file_extension": ".py",
   "mimetype": "text/x-python",
   "name": "python",
   "nbconvert_exporter": "python",
   "pygments_lexer": "ipython3",
   "version": "3.5.2"
  }
 },
 "nbformat": 4,
 "nbformat_minor": 2
}
