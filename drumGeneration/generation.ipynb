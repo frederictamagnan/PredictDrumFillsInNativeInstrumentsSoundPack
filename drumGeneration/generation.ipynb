{
 "cells": [
  {
   "cell_type": "code",
   "execution_count": 21,
   "metadata": {},
   "outputs": [
    {
     "ename": "ImportError",
     "evalue": "No module named 'cleanLabeling'",
     "output_type": "error",
     "traceback": [
      "\u001b[0;31m---------------------------------------------------------------------------\u001b[0m",
      "\u001b[0;31mImportError\u001b[0m                               Traceback (most recent call last)",
      "\u001b[0;32m<ipython-input-21-61715a261149>\u001b[0m in \u001b[0;36m<module>\u001b[0;34m()\u001b[0m\n\u001b[1;32m      2\u001b[0m \u001b[0;32mfrom\u001b[0m \u001b[0mCNNNet\u001b[0m \u001b[0;32mimport\u001b[0m \u001b[0mCNNNet\u001b[0m\u001b[0;34m\u001b[0m\u001b[0m\n\u001b[1;32m      3\u001b[0m \u001b[0;32mimport\u001b[0m \u001b[0mnumpy\u001b[0m \u001b[0;32mas\u001b[0m \u001b[0mnp\u001b[0m\u001b[0;34m\u001b[0m\u001b[0m\n\u001b[0;32m----> 4\u001b[0;31m \u001b[0;32mfrom\u001b[0m \u001b[0mcleanLabeling\u001b[0m\u001b[0;34m.\u001b[0m\u001b[0mutils\u001b[0m \u001b[0;32mimport\u001b[0m \u001b[0mrandom_file\u001b[0m\u001b[0;34m\u001b[0m\u001b[0m\n\u001b[0m",
      "\u001b[0;31mImportError\u001b[0m: No module named 'cleanLabeling'"
     ]
    }
   ],
   "source": [
    "import torch\n",
    "from CNNNet import CNNNet\n",
    "import numpy as np\n"
   ]
  },
  {
   "cell_type": "code",
   "execution_count": 12,
   "metadata": {},
   "outputs": [],
   "source": [
    "model_path='/home/ftamagnan/PredictDrumFillsInNativeInstrumentsSoundPack/models/'\n",
    "model_name='generation_model.pt'"
   ]
  },
  {
   "cell_type": "code",
   "execution_count": 18,
   "metadata": {},
   "outputs": [
    {
     "name": "stdout",
     "output_type": "stream",
     "text": [
      "NUMBER OF PARAMETER : 17818\n"
     ]
    }
   ],
   "source": [
    "model=CNNNet()\n",
    "model.eval()\n",
    "model_parameters = filter(lambda p: p.requires_grad, model.parameters())\n",
    "params = sum([np.prod(p.size()) for p in model_parameters])\n",
    "print(\"NUMBER OF PARAMETER : \" + str(params))\n"
   ]
  },
  {
   "cell_type": "code",
   "execution_count": 19,
   "metadata": {},
   "outputs": [],
   "source": [
    "model.load_state_dict(torch.load(model_path+model_name))"
   ]
  },
  {
   "cell_type": "code",
   "execution_count": 31,
   "metadata": {},
   "outputs": [
    {
     "name": "stdout",
     "output_type": "stream",
     "text": [
      "('/home/ftamagnan/dataset/lpd_5/lpd_5_cleansed/B/F/D/TRBFDHO128F4294AF0/', 'b66dc6e056885eb18565203ad651cf38.npz')\n"
     ]
    }
   ],
   "source": [
    "PATH='/home/ftamagnan/dataset/lpd_5/lpd_5_cleansed/'\n",
    "PATH_TAGS = [\n",
    "        '/home/herman/lpd/id_lists/tagtraum/tagtraum_Blues.id',\n",
    "        '/home/herman/lpd/id_lists/tagtraum/tagtraum_Country.id',\n",
    "        '/home/herman/lpd/id_lists/tagtraum/tagtraum_Electronic.id',\n",
    "        '/home/herman/lpd/id_lists/tagtraum/tagtraum_Folk.id',\n",
    "        '/home/herman/lpd/id_lists/tagtraum/tagtraum_Jazz.id',\n",
    "        '/home/herman/lpd/id_lists/tagtraum/tagtraum_Latin.id',\n",
    "        '/home/herman/lpd/id_lists/tagtraum/tagtraum_Metal.id',\n",
    "        '/home/herman/lpd/id_lists/tagtraum/tagtraum_New-Age.id',\n",
    "        '/home/herman/lpd/id_lists/tagtraum/tagtraum_Pop.id', # 8\n",
    "        '/home/herman/lpd/id_lists/tagtraum/tagtraum_Punk.id',\n",
    "        '/home/herman/lpd/id_lists/tagtraum/tagtraum_Rap.id',\n",
    "        '/home/herman/lpd/id_lists/tagtraum/tagtraum_Reggae.id',\n",
    "        '/home/herman/lpd/id_lists/tagtraum/tagtraum_RnB.id',\n",
    "        '/home/herman/lpd/id_lists/tagtraum/tagtraum_Rock.id', # 13\n",
    "        '/home/herman/lpd/id_lists/tagtraum/tagtraum_World.id',\n",
    "    ]\n",
    "import os\n",
    "from random import randint\n",
    "\n",
    "def random_file(filepath_dataset=PATH,path_tags=PATH_TAGS):\n",
    "\n",
    "        all=[]\n",
    "\n",
    "        # ITERATE OVER THE TAG LISTS\n",
    "\n",
    "        for tag_i, tag in enumerate(path_tags):\n",
    "\n",
    "#             print('>>' + tag[29:-3])\n",
    "            with open(tag, 'r') as f:\n",
    "                # ITERATE OVER THE FOLDER LISTS\n",
    "\n",
    "                for i, file in enumerate(f):\n",
    "                    # (str(f))\n",
    "                    #                 print('load files..{}/{}'.format(i + 1, number_files[tag_i]), end=\"\\r\")\n",
    "                    file = file.rstrip()\n",
    "                    middle = '/'.join(file[2:5]) + '/'\n",
    "                    p = filepath_dataset + middle + file\n",
    "\n",
    "                    for npz in os.listdir(p):\n",
    "                        all.append((p+'/',npz))\n",
    "\n",
    "\n",
    "        pick=all[randint(0,len(all))]\n",
    "        return pick\n",
    "\n"
   ]
  },
  {
   "cell_type": "code",
   "execution_count": null,
   "metadata": {},
   "outputs": [],
   "source": []
  }
 ],
 "metadata": {
  "kernelspec": {
   "display_name": "Python 3",
   "language": "python",
   "name": "python3"
  },
  "language_info": {
   "codemirror_mode": {
    "name": "ipython",
    "version": 3
   },
   "file_extension": ".py",
   "mimetype": "text/x-python",
   "name": "python",
   "nbconvert_exporter": "python",
   "pygments_lexer": "ipython3",
   "version": "3.5.2"
  }
 },
 "nbformat": 4,
 "nbformat_minor": 2
}
