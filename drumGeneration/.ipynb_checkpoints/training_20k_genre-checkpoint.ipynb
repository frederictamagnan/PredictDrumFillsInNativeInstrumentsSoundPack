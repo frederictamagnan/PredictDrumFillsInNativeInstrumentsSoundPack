{
 "cells": [
  {
   "cell_type": "code",
   "execution_count": 1,
   "metadata": {},
   "outputs": [],
   "source": [
    "from TrainingGenerator import TrainingGenerator"
   ]
  },
  {
   "cell_type": "code",
   "execution_count": 2,
   "metadata": {},
   "outputs": [],
   "source": [
    "LR=0.01\n",
    "BATCH_SIZE=256\n",
    "N_EPOCHS=100\n",
    "local_dataset='/home/ftamagnan/dataset/fills_reduced.npz'\n",
    "model_path='/home/ftamagnan/PredictDrumFillsInNativeInstrumentsSoundPack/models/'"
   ]
  },
  {
   "cell_type": "code",
   "execution_count": 3,
   "metadata": {},
   "outputs": [
    {
     "name": "stdout",
     "output_type": "stream",
     "text": [
      "/home/ftamagnan/PredictDrumFillsInNativeInstrumentsSoundPack/drumGeneration\n"
     ]
    }
   ],
   "source": [
    "import os\n",
    "print(os.getcwd())"
   ]
  },
  {
   "cell_type": "code",
   "execution_count": 4,
   "metadata": {},
   "outputs": [
    {
     "name": "stdout",
     "output_type": "stream",
     "text": [
      "run on GPU\n"
     ]
    }
   ],
   "source": [
    "tg=TrainingGenerator(lr=LR,batch_size=BATCH_SIZE,n_epochs=N_EPOCHS,dataset_filepath=local_dataset)"
   ]
  },
  {
   "cell_type": "code",
   "execution_count": 5,
   "metadata": {},
   "outputs": [
    {
     "name": "stdout",
     "output_type": "stream",
     "text": [
      "8968\n"
     ]
    }
   ],
   "source": [
    "tg.load_data()\n",
    "print(len(tg.dataset))"
   ]
  },
  {
   "cell_type": "code",
   "execution_count": 6,
   "metadata": {},
   "outputs": [
    {
     "name": "stdout",
     "output_type": "stream",
     "text": [
      "5380 1794 1794\n"
     ]
    }
   ],
   "source": [
    "tg.split_data()\n",
    "print(len(tg.train),len(tg.test),len(tg.validation))"
   ]
  },
  {
   "cell_type": "code",
   "execution_count": 7,
   "metadata": {},
   "outputs": [
    {
     "name": "stdout",
     "output_type": "stream",
     "text": [
      "[1,    20] loss: 0.693\n",
      "val loss tensor(0.8079, device='cuda:0')\n"
     ]
    },
    {
     "name": "stderr",
     "output_type": "stream",
     "text": [
      "/home/ftamagnan/PredictDrumFillsInNativeInstrumentsSoundPack/drumGeneration/TrainingGenerator.py:90: UserWarning: invalid index of a 0-dim tensor. This will be an error in PyTorch 0.5. Use tensor.item() to convert a 0-dim tensor to a Python number\n",
      "  total_val_loss += val_loss_size.data[0]\n"
     ]
    },
    {
     "name": "stdout",
     "output_type": "stream",
     "text": [
      "[2,    20] loss: 0.692\n",
      "val loss tensor(0.8068, device='cuda:0')\n",
      "[3,    20] loss: 0.691\n",
      "val loss tensor(0.8057, device='cuda:0')\n",
      "[4,    20] loss: 0.690\n",
      "val loss tensor(0.8045, device='cuda:0')\n",
      "[5,    20] loss: 0.689\n",
      "val loss tensor(0.8034, device='cuda:0')\n",
      "[6,    20] loss: 0.688\n",
      "val loss tensor(0.8022, device='cuda:0')\n",
      "[7,    20] loss: 0.687\n",
      "val loss tensor(0.8009, device='cuda:0')\n",
      "[8,    20] loss: 0.686\n",
      "val loss tensor(0.7996, device='cuda:0')\n",
      "[9,    20] loss: 0.685\n",
      "val loss tensor(0.7982, device='cuda:0')\n",
      "[10,    20] loss: 0.684\n",
      "val loss tensor(0.7966, device='cuda:0')\n",
      "[11,    20] loss: 0.682\n",
      "val loss tensor(0.7949, device='cuda:0')\n",
      "[12,    20] loss: 0.681\n",
      "val loss tensor(0.7929, device='cuda:0')\n",
      "[13,    20] loss: 0.679\n",
      "val loss tensor(0.7906, device='cuda:0')\n",
      "[14,    20] loss: 0.677\n",
      "val loss tensor(0.7877, device='cuda:0')\n",
      "[15,    20] loss: 0.674\n",
      "val loss tensor(0.7840, device='cuda:0')\n",
      "[16,    20] loss: 0.670\n",
      "val loss tensor(0.7791, device='cuda:0')\n",
      "[17,    20] loss: 0.665\n",
      "val loss tensor(0.7718, device='cuda:0')\n",
      "[18,    20] loss: 0.658\n",
      "val loss tensor(0.7604, device='cuda:0')\n",
      "[19,    20] loss: 0.645\n",
      "val loss tensor(0.7403, device='cuda:0')\n",
      "[20,    20] loss: 0.621\n",
      "val loss tensor(0.6996, device='cuda:0')\n",
      "[21,    20] loss: 0.569\n",
      "val loss tensor(0.6038, device='cuda:0')\n",
      "[22,    20] loss: 0.442\n",
      "val loss tensor(0.3793, device='cuda:0')\n",
      "[23,    20] loss: 0.215\n",
      "val loss tensor(0.1287, device='cuda:0')\n",
      "[24,    20] loss: 0.082\n",
      "val loss tensor(0.0795, device='cuda:0')\n",
      "[25,    20] loss: 0.065\n",
      "val loss tensor(0.0739, device='cuda:0')\n",
      "[26,    20] loss: 0.062\n",
      "val loss tensor(0.0712, device='cuda:0')\n",
      "[27,    20] loss: 0.060\n",
      "val loss tensor(0.0698, device='cuda:0')\n",
      "[28,    20] loss: 0.059\n",
      "val loss tensor(0.0689, device='cuda:0')\n",
      "[29,    20] loss: 0.058\n",
      "val loss tensor(0.0682, device='cuda:0')\n",
      "[30,    20] loss: 0.058\n",
      "val loss tensor(0.0678, device='cuda:0')\n",
      "[31,    20] loss: 0.057\n",
      "val loss tensor(0.0675, device='cuda:0')\n",
      "[32,    20] loss: 0.057\n",
      "val loss tensor(0.0673, device='cuda:0')\n",
      "[33,    20] loss: 0.057\n",
      "val loss tensor(0.0671, device='cuda:0')\n",
      "[34,    20] loss: 0.057\n",
      "val loss tensor(0.0669, device='cuda:0')\n",
      "[35,    20] loss: 0.057\n",
      "val loss tensor(0.0668, device='cuda:0')\n",
      "[36,    20] loss: 0.057\n",
      "val loss tensor(0.0666, device='cuda:0')\n",
      "[37,    20] loss: 0.056\n",
      "val loss tensor(0.0665, device='cuda:0')\n",
      "[38,    20] loss: 0.056\n",
      "val loss tensor(0.0664, device='cuda:0')\n",
      "[39,    20] loss: 0.056\n",
      "val loss tensor(0.0663, device='cuda:0')\n",
      "[40,    20] loss: 0.056\n",
      "val loss tensor(0.0663, device='cuda:0')\n",
      "[41,    20] loss: 0.056\n",
      "val loss tensor(0.0662, device='cuda:0')\n",
      "[42,    20] loss: 0.056\n",
      "val loss tensor(0.0662, device='cuda:0')\n",
      "[43,    20] loss: 0.056\n",
      "val loss tensor(0.0661, device='cuda:0')\n",
      "[44,    20] loss: 0.056\n",
      "val loss tensor(0.0661, device='cuda:0')\n",
      "[45,    20] loss: 0.056\n",
      "val loss tensor(0.0660, device='cuda:0')\n",
      "[46,    20] loss: 0.056\n",
      "val loss tensor(0.0660, device='cuda:0')\n",
      "[47,    20] loss: 0.056\n",
      "val loss tensor(0.0660, device='cuda:0')\n",
      "[48,    20] loss: 0.056\n",
      "val loss tensor(0.0659, device='cuda:0')\n",
      "[49,    20] loss: 0.056\n",
      "val loss tensor(0.0659, device='cuda:0')\n",
      "[50,    20] loss: 0.056\n",
      "val loss tensor(0.0659, device='cuda:0')\n",
      "[51,    20] loss: 0.056\n",
      "val loss tensor(0.0659, device='cuda:0')\n",
      "[52,    20] loss: 0.056\n",
      "val loss tensor(0.0658, device='cuda:0')\n",
      "[53,    20] loss: 0.056\n",
      "val loss tensor(0.0658, device='cuda:0')\n",
      "[54,    20] loss: 0.056\n",
      "val loss tensor(0.0658, device='cuda:0')\n",
      "[55,    20] loss: 0.056\n",
      "val loss tensor(0.0658, device='cuda:0')\n",
      "[56,    20] loss: 0.056\n",
      "val loss tensor(0.0658, device='cuda:0')\n",
      "[57,    20] loss: 0.056\n",
      "val loss tensor(0.0657, device='cuda:0')\n",
      "[58,    20] loss: 0.056\n",
      "val loss tensor(0.0657, device='cuda:0')\n",
      "[59,    20] loss: 0.056\n",
      "val loss tensor(0.0657, device='cuda:0')\n",
      "[60,    20] loss: 0.056\n",
      "val loss tensor(0.0657, device='cuda:0')\n",
      "[61,    20] loss: 0.056\n",
      "val loss tensor(0.0657, device='cuda:0')\n",
      "[62,    20] loss: 0.056\n",
      "val loss tensor(0.0657, device='cuda:0')\n",
      "[63,    20] loss: 0.056\n",
      "val loss tensor(0.0657, device='cuda:0')\n",
      "[64,    20] loss: 0.056\n",
      "val loss tensor(0.0657, device='cuda:0')\n",
      "[65,    20] loss: 0.056\n",
      "val loss tensor(0.0656, device='cuda:0')\n",
      "[66,    20] loss: 0.056\n",
      "val loss tensor(0.0656, device='cuda:0')\n",
      "[67,    20] loss: 0.056\n",
      "val loss tensor(0.0656, device='cuda:0')\n",
      "[68,    20] loss: 0.056\n",
      "val loss tensor(0.0656, device='cuda:0')\n",
      "[69,    20] loss: 0.056\n",
      "val loss tensor(0.0656, device='cuda:0')\n",
      "[70,    20] loss: 0.056\n",
      "val loss tensor(0.0656, device='cuda:0')\n",
      "[71,    20] loss: 0.056\n",
      "val loss tensor(0.0656, device='cuda:0')\n",
      "[72,    20] loss: 0.056\n",
      "val loss tensor(0.0656, device='cuda:0')\n",
      "[73,    20] loss: 0.055\n",
      "val loss tensor(0.0656, device='cuda:0')\n",
      "[74,    20] loss: 0.056\n",
      "val loss tensor(0.0656, device='cuda:0')\n",
      "[75,    20] loss: 0.056\n",
      "val loss tensor(0.0655, device='cuda:0')\n",
      "[76,    20] loss: 0.055\n",
      "val loss tensor(0.0655, device='cuda:0')\n",
      "[77,    20] loss: 0.056\n",
      "val loss tensor(0.0655, device='cuda:0')\n",
      "[78,    20] loss: 0.055\n",
      "val loss tensor(0.0655, device='cuda:0')\n",
      "[79,    20] loss: 0.056\n",
      "val loss tensor(0.0655, device='cuda:0')\n",
      "[80,    20] loss: 0.055\n",
      "val loss tensor(0.0655, device='cuda:0')\n",
      "[81,    20] loss: 0.056\n",
      "val loss tensor(0.0655, device='cuda:0')\n",
      "[82,    20] loss: 0.055\n",
      "val loss tensor(0.0655, device='cuda:0')\n",
      "[83,    20] loss: 0.055\n",
      "val loss tensor(0.0655, device='cuda:0')\n",
      "[84,    20] loss: 0.056\n",
      "val loss tensor(0.0655, device='cuda:0')\n",
      "[85,    20] loss: 0.055\n",
      "val loss tensor(0.0655, device='cuda:0')\n",
      "[86,    20] loss: 0.056\n",
      "val loss tensor(0.0655, device='cuda:0')\n",
      "[87,    20] loss: 0.055\n",
      "val loss tensor(0.0655, device='cuda:0')\n",
      "[88,    20] loss: 0.056\n",
      "val loss tensor(0.0655, device='cuda:0')\n",
      "[89,    20] loss: 0.055\n",
      "val loss tensor(0.0654, device='cuda:0')\n",
      "[90,    20] loss: 0.056\n",
      "val loss tensor(0.0654, device='cuda:0')\n",
      "[91,    20] loss: 0.055\n",
      "val loss tensor(0.0654, device='cuda:0')\n",
      "[92,    20] loss: 0.055\n",
      "val loss tensor(0.0654, device='cuda:0')\n",
      "[93,    20] loss: 0.055\n",
      "val loss tensor(0.0654, device='cuda:0')\n",
      "[94,    20] loss: 0.056\n",
      "val loss tensor(0.0654, device='cuda:0')\n",
      "[95,    20] loss: 0.055\n",
      "val loss tensor(0.0654, device='cuda:0')\n",
      "[96,    20] loss: 0.056\n",
      "val loss tensor(0.0654, device='cuda:0')\n",
      "[97,    20] loss: 0.055\n",
      "val loss tensor(0.0654, device='cuda:0')\n",
      "[98,    20] loss: 0.055\n",
      "val loss tensor(0.0654, device='cuda:0')\n",
      "[99,    20] loss: 0.055\n",
      "val loss tensor(0.0654, device='cuda:0')\n",
      "[100,    20] loss: 0.055\n",
      "val loss tensor(0.0654, device='cuda:0')\n",
      "Finished Training\n",
      "lol\n"
     ]
    }
   ],
   "source": [
    "\n",
    "\n",
    "tg.train_model()\n",
    "tg.save_model(model_path,\"generation_model\")\n",
    "print(\"lol\")"
   ]
  },
  {
   "cell_type": "code",
   "execution_count": 8,
   "metadata": {},
   "outputs": [],
   "source": [
    "tg.save_model(model_path,\"generation_model.pt\")"
   ]
  },
  {
   "cell_type": "code",
   "execution_count": 9,
   "metadata": {},
   "outputs": [
    {
     "data": {
      "text/plain": [
       "CNNNet(\n",
       "  (conv1): Conv2d(2, 6, kernel_size=(3, 3), stride=(1, 1), padding=(1, 1))\n",
       "  (pool): MaxPool2d(kernel_size=2, stride=2, padding=0, dilation=1, ceil_mode=False)\n",
       "  (conv2): Conv2d(6, 16, kernel_size=(2, 2), stride=(1, 1), padding=(1, 1))\n",
       "  (fc1): Linear(in_features=768, out_features=256, bias=True)\n",
       "  (fc2): Linear(in_features=256, out_features=256, bias=True)\n",
       "  (fc3): Linear(in_features=256, out_features=864, bias=True)\n",
       ")"
      ]
     },
     "execution_count": 9,
     "metadata": {},
     "output_type": "execute_result"
    }
   ],
   "source": [
    "tg.net"
   ]
  },
  {
   "cell_type": "code",
   "execution_count": 10,
   "metadata": {},
   "outputs": [],
   "source": [
    "import torch\n",
    "torch.save(tg.net.state_dict(), model_path+\"generation_model.pt\")\n"
   ]
  },
  {
   "cell_type": "code",
   "execution_count": null,
   "metadata": {},
   "outputs": [],
   "source": []
  }
 ],
 "metadata": {
  "kernelspec": {
   "display_name": "Python 3",
   "language": "python",
   "name": "python3"
  },
  "language_info": {
   "codemirror_mode": {
    "name": "ipython",
    "version": 3
   },
   "file_extension": ".py",
   "mimetype": "text/x-python",
   "name": "python",
   "nbconvert_exporter": "python",
   "pygments_lexer": "ipython3",
   "version": "3.5.2"
  }
 },
 "nbformat": 4,
 "nbformat_minor": 2
}
