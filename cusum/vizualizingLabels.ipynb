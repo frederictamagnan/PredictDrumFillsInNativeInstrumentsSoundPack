{
 "cells": [
  {
   "cell_type": "code",
   "execution_count": 1,
   "metadata": {},
   "outputs": [],
   "source": [
    "from utils import random_file\n",
    "import numpy as np\n",
    "import matplotlib.pyplot as plt\n",
    "import random\n",
    "# random.seed(0)"
   ]
  },
  {
   "cell_type": "code",
   "execution_count": 2,
   "metadata": {},
   "outputs": [
    {
     "name": "stdout",
     "output_type": "stream",
     "text": [
      ">>traum/tagtraum_Rock\n"
     ]
    }
   ],
   "source": [
    "path,npz=random_file()\n"
   ]
  },
  {
   "cell_type": "code",
   "execution_count": 3,
   "metadata": {},
   "outputs": [
    {
     "data": {
      "text/plain": [
       "('/home/ftamagnan/dataset/lpd_5/lpd_5_cleansed/V/M/U/TRVMUJT128F4250A30/',\n",
       " 'bac7b338b827d40ee607f52d2e8256b0.npz')"
      ]
     },
     "execution_count": 3,
     "metadata": {},
     "output_type": "execute_result"
    }
   ],
   "source": [
    "path,npz"
   ]
  },
  {
   "cell_type": "code",
   "execution_count": 4,
   "metadata": {},
   "outputs": [
    {
     "name": "stdout",
     "output_type": "stream",
     "text": [
      "(82, 27)\n",
      "(82,)\n"
     ]
    }
   ],
   "source": [
    "label=np.load(path+npz[:-4]+\"_label.npz\")\n",
    "metrics=np.load(path+npz[:-4]+\"_metadata_training.npz\")\n",
    "metrics=dict(metrics)\n",
    "label=dict(label)\n",
    "# print(metrics)\n",
    "print(metrics['velocity_metadata'].shape)\n",
    "print(label['label'].shape)\n",
    "\n",
    "vel=metrics['velocity_metadata']\n",
    "lab=label['label']"
   ]
  },
  {
   "cell_type": "code",
   "execution_count": 5,
   "metadata": {},
   "outputs": [],
   "source": [
    "name_pitches = ['bass drum','snare drum','closed hi-hat','open hi-hat','low tom','mid tom','high tom','crash cymbal','ride cymbal']\n",
    "name_features=['max_velocity','std_velocity','mean_velocity']\n",
    "name_coef=[]\n",
    "\n",
    "for feature in name_features:\n",
    "    for pitch in name_pitches:\n",
    "        name_coef.append(feature+' of '+pitch)"
   ]
  },
  {
   "cell_type": "code",
   "execution_count": 6,
   "metadata": {},
   "outputs": [
    {
     "name": "stdout",
     "output_type": "stream",
     "text": [
      "max_velocity of bass drum\n",
      "max_velocity of snare drum\n",
      "max_velocity of open hi-hat\n",
      "max_velocity of low tom\n",
      "max_velocity of mid tom\n",
      "max_velocity of high tom\n",
      "max_velocity of crash cymbal\n",
      "std_velocity of bass drum\n",
      "std_velocity of snare drum\n",
      "std_velocity of open hi-hat\n",
      "std_velocity of low tom\n",
      "std_velocity of mid tom\n",
      "std_velocity of high tom\n",
      "std_velocity of crash cymbal\n",
      "mean_velocity of bass drum\n",
      "mean_velocity of snare drum\n",
      "mean_velocity of open hi-hat\n",
      "mean_velocity of low tom\n",
      "mean_velocity of mid tom\n",
      "mean_velocity of high tom\n",
      "mean_velocity of crash cymbal\n"
     ]
    },
    {
     "data": {
      "image/png": "[encoded data removed]",
      "text/plain": [
       "<matplotlib.figure.Figure at 0x7f362de29f98>"
      ]
     },
     "metadata": {},
     "output_type": "display_data"
    }
   ],
   "source": [
    "j=1\n",
    "\n",
    "list_index=[]\n",
    "for i in range(27):\n",
    "    if vel[:, i].mean() != 0:\n",
    "        list_index.append(i)\n",
    "        print(name_coef[i])\n",
    "\n",
    "\n",
    "for i,index in enumerate(list_index):\n",
    "        plt.subplot(len(list_index)+1, 1, i+1)\n",
    "        plt.plot(vel[:, index]>vel[:, index].max()*0.75)\n",
    "\n",
    "plt.subplot(len(list_index)+1,1,len(list_index)+1)\n",
    "plt.ylabel('label')\n",
    "plt.plot(lab)\n",
    "plt.show()"
   ]
  },
  {
   "cell_type": "code",
   "execution_count": 9,
   "metadata": {},
   "outputs": [
    {
     "name": "stdout",
     "output_type": "stream",
     "text": [
      "max_velocity of bass drum\n",
      "max_velocity of snare drum\n",
      "max_velocity of closed hi-hat\n",
      "max_velocity of open hi-hat\n",
      "max_velocity of low tom\n",
      "max_velocity of mid tom\n",
      "max_velocity of high tom\n",
      "max_velocity of crash cymbal\n",
      "max_velocity of ride cymbal\n",
      "std_velocity of bass drum\n",
      "std_velocity of snare drum\n",
      "std_velocity of closed hi-hat\n",
      "std_velocity of open hi-hat\n",
      "std_velocity of low tom\n",
      "std_velocity of mid tom\n",
      "std_velocity of high tom\n",
      "std_velocity of crash cymbal\n",
      "std_velocity of ride cymbal\n",
      "mean_velocity of bass drum\n",
      "mean_velocity of snare drum\n",
      "mean_velocity of closed hi-hat\n",
      "mean_velocity of open hi-hat\n",
      "mean_velocity of low tom\n",
      "mean_velocity of mid tom\n",
      "mean_velocity of high tom\n",
      "mean_velocity of crash cymbal\n",
      "mean_velocity of ride cymbal\n"
     ]
    }
   ],
   "source": [
    "for i in range(27):\n",
    "    print(name_coef[i])"
   ]
  },
  {
   "cell_type": "code",
   "execution_count": null,
   "metadata": {},
   "outputs": [],
   "source": []
  }
 ],
 "metadata": {
  "kernelspec": {
   "display_name": "Python 3",
   "language": "python",
   "name": "python3"
  },
  "language_info": {
   "codemirror_mode": {
    "name": "ipython",
    "version": 3
   },
   "file_extension": ".py",
   "mimetype": "text/x-python",
   "name": "python",
   "nbconvert_exporter": "python",
   "pygments_lexer": "ipython3",
   "version": "3.5.2"
  }
 },
 "nbformat": 4,
 "nbformat_minor": 2
}
