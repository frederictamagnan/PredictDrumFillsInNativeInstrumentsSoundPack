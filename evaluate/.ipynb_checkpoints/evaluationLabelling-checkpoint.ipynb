{
 "cells": [
  {
   "cell_type": "code",
   "execution_count": 8,
   "metadata": {},
   "outputs": [],
   "source": [
    "import os\n",
    "import numpy as np"
   ]
  },
  {
   "cell_type": "code",
   "execution_count": 96,
   "metadata": {},
   "outputs": [
    {
     "name": "stdout",
     "output_type": "stream",
     "text": [
      "[0.5  0.5  0.5  0.5  0.12]\n"
     ]
    }
   ],
   "source": [
    "\n",
    "def count_adjacent_true(arr):\n",
    "    assert len(arr.shape) == 1\n",
    "    assert arr.dtype == np.bool\n",
    "    if arr.size == 0:\n",
    "        return np.empty(0, dtype=int), np.empty(0, dtype=int)\n",
    "    sw = np.insert(arr[1:] ^ arr[:-1], [0, arr.shape[0]-1], values=True)\n",
    "    swi = np.arange(sw.shape[0])[sw]\n",
    "    offset = 0 if arr[0] else 1\n",
    "    lengths = swi[offset+1::2] - swi[offset:-1:2]\n",
    "    if lengths.shape[0]==0:\n",
    "        return (np.array([0]),np.array([0]))\n",
    "    else:\n",
    "        return swi[offset:-1:2], lengths\n",
    "    \n",
    "\n",
    "a=np.zeros(100)\n",
    "a[:50]=1\n",
    "def compute_metrics_label(label):\n",
    "    label=(label==1)*1\n",
    "    l=len(label)\n",
    "    adj=count_adjacent_true(label==1)\n",
    "#     print(adj)\n",
    "    return np.array([min(adj[1])/l,max(adj[1])/l,np.mean(adj[1])/l,label.sum()/l,label[3::4].sum()/l])\n",
    "res=compute_metrics_label(a)\n",
    "print(res)"
   ]
  },
  {
   "cell_type": "code",
   "execution_count": 6,
   "metadata": {},
   "outputs": [],
   "source": [
    "path_tags= [\n",
    "    '/home/ftamagnan/dataset/id_lists/tagtraum/tagtraum_Blues.id',\n",
    "    '/home/ftamagnan/dataset/id_lists/tagtraum/tagtraum_Country.id',\n",
    "    '/home/ftamagnan/dataset/id_lists/tagtraum/tagtraum_Electronic.id',\n",
    "    '/home/ftamagnan/dataset/id_lists/tagtraum/tagtraum_Folk.id',\n",
    "    '/home/ftamagnan/dataset/id_lists/tagtraum/tagtraum_Jazz.id',\n",
    "    '/home/ftamagnan/dataset/id_lists/tagtraum/tagtraum_Latin.id',\n",
    "    '/home/ftamagnan/dataset/id_lists/tagtraum/tagtraum_Metal.id',\n",
    "    '/home/ftamagnan/dataset/id_lists/tagtraum/tagtraum_New-Age.id',\n",
    "    '/home/ftamagnan/dataset/id_lists/tagtraum/tagtraum_Pop.id', # 8\n",
    "    '/home/ftamagnan/dataset/id_lists/tagtraum/tagtraum_Punk.id',\n",
    "    '/home/ftamagnan/dataset/id_lists/tagtraum/tagtraum_Rap.id',\n",
    "    '/home/ftamagnan/dataset/id_lists/tagtraum/tagtraum_Reggae.id',\n",
    "    '/home/ftamagnan/dataset/id_lists/tagtraum/tagtraum_RnB.id',\n",
    "    '/home/ftamagnan/dataset/id_lists/tagtraum/tagtraum_Rock.id', # 13\n",
    "    '/home/ftamagnan/dataset/id_lists/tagtraum/tagtraum_World.id',\n",
    "    '/home/ftamagnan/dataset/id_lists/tagtraum/tagtraum_Unknown.id'\n",
    "]\n",
    "filepath_dataset = '/home/ftamagnan/dataset/lpd_5/lpd_5_cleansed/'"
   ]
  },
  {
   "cell_type": "code",
   "execution_count": 97,
   "metadata": {},
   "outputs": [],
   "source": [
    "def iterate_metrics(labeltype):\n",
    "\n",
    "    metrics=np.zeros((1,6))\n",
    "    for tag_i, tag in enumerate(path_tags):\n",
    "\n",
    "\n",
    "        print('>>' + tag[32:-3])\n",
    "        with open(tag, 'r') as f:\n",
    "            # ITERATE OVER THE FOLDER LISTS\n",
    "            for i, file in enumerate(f):\n",
    "                file = file.rstrip()\n",
    "                middle = '/'.join(file[2:5]) + '/'        \n",
    "                p = filepath_dataset + middle + file\n",
    "                for npz in os.listdir(p):\n",
    "                    if labeltype in npz:\n",
    "                        data=dict(np.load(p+'/'+npz))\n",
    "                        label=data['label']\n",
    "                        m=compute_metrics_label(label)\n",
    "                        m_=np.concatenate([m,np.array([tag_i])])\n",
    "                        m_=m_.reshape((1,6))\n",
    "                        metrics=np.concatenate((metrics,m_))\n",
    "    return metrics"
   ]
  },
  {
   "cell_type": "code",
   "execution_count": 98,
   "metadata": {},
   "outputs": [
    {
     "name": "stdout",
     "output_type": "stream",
     "text": [
      ">>/tagtraum/tagtraum_Blues\n",
      ">>/tagtraum/tagtraum_Country\n",
      ">>/tagtraum/tagtraum_Electronic\n",
      ">>/tagtraum/tagtraum_Folk\n",
      ">>/tagtraum/tagtraum_Jazz\n",
      ">>/tagtraum/tagtraum_Latin\n",
      ">>/tagtraum/tagtraum_Metal\n",
      ">>/tagtraum/tagtraum_New-Age\n",
      ">>/tagtraum/tagtraum_Pop\n",
      ">>/tagtraum/tagtraum_Punk\n",
      ">>/tagtraum/tagtraum_Rap\n",
      ">>/tagtraum/tagtraum_Reggae\n",
      ">>/tagtraum/tagtraum_RnB\n",
      ">>/tagtraum/tagtraum_Rock\n",
      ">>/tagtraum/tagtraum_World\n",
      ">>/tagtraum/tagtraum_Unknown\n",
      ">>/tagtraum/tagtraum_Blues\n",
      ">>/tagtraum/tagtraum_Country\n",
      ">>/tagtraum/tagtraum_Electronic\n",
      ">>/tagtraum/tagtraum_Folk\n",
      ">>/tagtraum/tagtraum_Jazz\n",
      ">>/tagtraum/tagtraum_Latin\n",
      ">>/tagtraum/tagtraum_Metal\n",
      ">>/tagtraum/tagtraum_New-Age\n",
      ">>/tagtraum/tagtraum_Pop\n",
      ">>/tagtraum/tagtraum_Punk\n",
      ">>/tagtraum/tagtraum_Rap\n",
      ">>/tagtraum/tagtraum_Reggae\n",
      ">>/tagtraum/tagtraum_RnB\n",
      ">>/tagtraum/tagtraum_Rock\n",
      ">>/tagtraum/tagtraum_World\n",
      ">>/tagtraum/tagtraum_Unknown\n"
     ]
    }
   ],
   "source": [
    "metrics_sk=iterate_metrics('label.npz')\n",
    "metrics_clustering=iterate_metrics('label_clustering.npz')"
   ]
  },
  {
   "cell_type": "code",
   "execution_count": 106,
   "metadata": {
    "scrolled": true
   },
   "outputs": [
    {
     "name": "stdout",
     "output_type": "stream",
     "text": [
      "[ 2.26225018  3.99429175  2.89174716 13.43161809  3.25146726]\n",
      "[1.94276776 4.84895966 3.07945136 7.81742733 1.81605932]\n"
     ]
    }
   ],
   "source": [
    "mean_sk=np.mean(metrics_sk,axis=0)\n",
    "mean_sk=mean_sk[:-1]*100\n",
    "\n",
    "mean_c=np.mean(metrics_clustering,axis=0)\n",
    "mean_c=mean_c[:-1]*100\n",
    "print(mean_c)\n",
    "print(mean_sk)\n",
    "\n"
   ]
  },
  {
   "cell_type": "code",
   "execution_count": 119,
   "metadata": {},
   "outputs": [
    {
     "name": "stdout",
     "output_type": "stream",
     "text": [
      "[1, 1, 1, 1, 1] [2.262250183492365, 3.99429174542283, 2.8917471617287256, 13.431618087914297, 3.2514672618288207]\n"
     ]
    },
    {
     "data": {
      "text/plain": [
       "<matplotlib.text.Text at 0x7fb42f378b00>"
      ]
     },
     "execution_count": 119,
     "metadata": {},
     "output_type": "execute_result"
    },
    {
     "data": {
      "image/png": "[encoded data removed]",
      "text/plain": [
       "<matplotlib.figure.Figure at 0x7fb42ef36518>"
      ]
     },
     "metadata": {},
     "output_type": "display_data"
    }
   ],
   "source": [
    "\n",
    "import matplotlib.pyplot as plt\n",
    "names = ['min adj','max adj','mean_adj','count','on 4th beat']\n",
    "\n",
    "values_c = mean_c.tolist()\n",
    "values_s = mean_sk.tolist()\n",
    "\n",
    "fig, axs = plt.subplots(2, 1)\n",
    "print(names,values_c)\n",
    "# axs[0].bar(names, values_c)\n",
    "axs[1].bar(names,values_s)\n",
    "\n",
    "fig.suptitle('Categorical Plotting')\n"
   ]
  },
  {
   "cell_type": "code",
   "execution_count": 120,
   "metadata": {},
   "outputs": [
    {
     "ename": "ValueError",
     "evalue": "could not convert string to float: 'lemons'",
     "output_type": "error",
     "traceback": [
      "\u001b[0;31m---------------------------------------------------------------------------\u001b[0m",
      "\u001b[0;31mValueError\u001b[0m                                Traceback (most recent call last)",
      "\u001b[0;32m<ipython-input-120-e2a045786d3b>\u001b[0m in \u001b[0;36m<module>\u001b[0;34m()\u001b[0m\n\u001b[1;32m      6\u001b[0m \u001b[0;34m\u001b[0m\u001b[0m\n\u001b[1;32m      7\u001b[0m \u001b[0mfig\u001b[0m\u001b[0;34m,\u001b[0m \u001b[0maxs\u001b[0m \u001b[0;34m=\u001b[0m \u001b[0mplt\u001b[0m\u001b[0;34m.\u001b[0m\u001b[0msubplots\u001b[0m\u001b[0;34m(\u001b[0m\u001b[0;36m1\u001b[0m\u001b[0;34m,\u001b[0m \u001b[0;36m3\u001b[0m\u001b[0;34m,\u001b[0m \u001b[0mfigsize\u001b[0m\u001b[0;34m=\u001b[0m\u001b[0;34m(\u001b[0m\u001b[0;36m9\u001b[0m\u001b[0;34m,\u001b[0m \u001b[0;36m3\u001b[0m\u001b[0;34m)\u001b[0m\u001b[0;34m,\u001b[0m \u001b[0msharey\u001b[0m\u001b[0;34m=\u001b[0m\u001b[0;32mTrue\u001b[0m\u001b[0;34m)\u001b[0m\u001b[0;34m\u001b[0m\u001b[0m\n\u001b[0;32m----> 8\u001b[0;31m \u001b[0maxs\u001b[0m\u001b[0;34m[\u001b[0m\u001b[0;36m0\u001b[0m\u001b[0;34m]\u001b[0m\u001b[0;34m.\u001b[0m\u001b[0mbar\u001b[0m\u001b[0;34m(\u001b[0m\u001b[0mnames\u001b[0m\u001b[0;34m,\u001b[0m \u001b[0mvalues\u001b[0m\u001b[0;34m)\u001b[0m\u001b[0;34m\u001b[0m\u001b[0m\n\u001b[0m\u001b[1;32m      9\u001b[0m \u001b[0maxs\u001b[0m\u001b[0;34m[\u001b[0m\u001b[0;36m1\u001b[0m\u001b[0;34m]\u001b[0m\u001b[0;34m.\u001b[0m\u001b[0mscatter\u001b[0m\u001b[0;34m(\u001b[0m\u001b[0mnames\u001b[0m\u001b[0;34m,\u001b[0m \u001b[0mvalues\u001b[0m\u001b[0;34m)\u001b[0m\u001b[0;34m\u001b[0m\u001b[0m\n\u001b[1;32m     10\u001b[0m \u001b[0maxs\u001b[0m\u001b[0;34m[\u001b[0m\u001b[0;36m2\u001b[0m\u001b[0;34m]\u001b[0m\u001b[0;34m.\u001b[0m\u001b[0mplot\u001b[0m\u001b[0;34m(\u001b[0m\u001b[0mnames\u001b[0m\u001b[0;34m,\u001b[0m \u001b[0mvalues\u001b[0m\u001b[0;34m)\u001b[0m\u001b[0;34m\u001b[0m\u001b[0m\n",
      "\u001b[0;32m/usr/lib/python3/dist-packages/matplotlib/__init__.py\u001b[0m in \u001b[0;36minner\u001b[0;34m(ax, *args, **kwargs)\u001b[0m\n\u001b[1;32m   1812\u001b[0m                     warnings.warn(msg % (label_namer, func.__name__),\n\u001b[1;32m   1813\u001b[0m                                   RuntimeWarning, stacklevel=2)\n\u001b[0;32m-> 1814\u001b[0;31m             \u001b[0;32mreturn\u001b[0m \u001b[0mfunc\u001b[0m\u001b[0;34m(\u001b[0m\u001b[0max\u001b[0m\u001b[0;34m,\u001b[0m \u001b[0;34m*\u001b[0m\u001b[0margs\u001b[0m\u001b[0;34m,\u001b[0m \u001b[0;34m**\u001b[0m\u001b[0mkwargs\u001b[0m\u001b[0;34m)\u001b[0m\u001b[0;34m\u001b[0m\u001b[0m\n\u001b[0m\u001b[1;32m   1815\u001b[0m         \u001b[0mpre_doc\u001b[0m \u001b[0;34m=\u001b[0m \u001b[0minner\u001b[0m\u001b[0;34m.\u001b[0m\u001b[0m__doc__\u001b[0m\u001b[0;34m\u001b[0m\u001b[0m\n\u001b[1;32m   1816\u001b[0m         \u001b[0;32mif\u001b[0m \u001b[0mpre_doc\u001b[0m \u001b[0;32mis\u001b[0m \u001b[0;32mNone\u001b[0m\u001b[0;34m:\u001b[0m\u001b[0;34m\u001b[0m\u001b[0m\n",
      "\u001b[0;32m/usr/lib/python3/dist-packages/matplotlib/axes/_axes.py\u001b[0m in \u001b[0;36mbar\u001b[0;34m(self, left, height, width, bottom, **kwargs)\u001b[0m\n\u001b[1;32m   2127\u001b[0m                 \u001b[0medgecolor\u001b[0m\u001b[0;34m=\u001b[0m\u001b[0me\u001b[0m\u001b[0;34m,\u001b[0m\u001b[0;34m\u001b[0m\u001b[0m\n\u001b[1;32m   2128\u001b[0m                 \u001b[0mlinewidth\u001b[0m\u001b[0;34m=\u001b[0m\u001b[0mlw\u001b[0m\u001b[0;34m,\u001b[0m\u001b[0;34m\u001b[0m\u001b[0m\n\u001b[0;32m-> 2129\u001b[0;31m                 \u001b[0mlabel\u001b[0m\u001b[0;34m=\u001b[0m\u001b[0;34m'_nolegend_'\u001b[0m\u001b[0;34m\u001b[0m\u001b[0m\n\u001b[0m\u001b[1;32m   2130\u001b[0m                 )\n\u001b[1;32m   2131\u001b[0m             \u001b[0mr\u001b[0m\u001b[0;34m.\u001b[0m\u001b[0mupdate\u001b[0m\u001b[0;34m(\u001b[0m\u001b[0mkwargs\u001b[0m\u001b[0;34m)\u001b[0m\u001b[0;34m\u001b[0m\u001b[0m\n",
      "\u001b[0;32m/usr/lib/python3/dist-packages/matplotlib/patches.py\u001b[0m in \u001b[0;36m__init__\u001b[0;34m(self, xy, width, height, angle, **kwargs)\u001b[0m\n\u001b[1;32m    639\u001b[0m         \u001b[0mPatch\u001b[0m\u001b[0;34m.\u001b[0m\u001b[0m__init__\u001b[0m\u001b[0;34m(\u001b[0m\u001b[0mself\u001b[0m\u001b[0;34m,\u001b[0m \u001b[0;34m**\u001b[0m\u001b[0mkwargs\u001b[0m\u001b[0;34m)\u001b[0m\u001b[0;34m\u001b[0m\u001b[0m\n\u001b[1;32m    640\u001b[0m \u001b[0;34m\u001b[0m\u001b[0m\n\u001b[0;32m--> 641\u001b[0;31m         \u001b[0mself\u001b[0m\u001b[0;34m.\u001b[0m\u001b[0m_x\u001b[0m \u001b[0;34m=\u001b[0m \u001b[0mfloat\u001b[0m\u001b[0;34m(\u001b[0m\u001b[0mxy\u001b[0m\u001b[0;34m[\u001b[0m\u001b[0;36m0\u001b[0m\u001b[0;34m]\u001b[0m\u001b[0;34m)\u001b[0m\u001b[0;34m\u001b[0m\u001b[0m\n\u001b[0m\u001b[1;32m    642\u001b[0m         \u001b[0mself\u001b[0m\u001b[0;34m.\u001b[0m\u001b[0m_y\u001b[0m \u001b[0;34m=\u001b[0m \u001b[0mfloat\u001b[0m\u001b[0;34m(\u001b[0m\u001b[0mxy\u001b[0m\u001b[0;34m[\u001b[0m\u001b[0;36m1\u001b[0m\u001b[0;34m]\u001b[0m\u001b[0;34m)\u001b[0m\u001b[0;34m\u001b[0m\u001b[0m\n\u001b[1;32m    643\u001b[0m         \u001b[0mself\u001b[0m\u001b[0;34m.\u001b[0m\u001b[0m_width\u001b[0m \u001b[0;34m=\u001b[0m \u001b[0mfloat\u001b[0m\u001b[0;34m(\u001b[0m\u001b[0mwidth\u001b[0m\u001b[0;34m)\u001b[0m\u001b[0;34m\u001b[0m\u001b[0m\n",
      "\u001b[0;31mValueError\u001b[0m: could not convert string to float: 'lemons'"
     ]
    },
    {
     "data": {
      "image/png": "[encoded data removed]",
      "text/plain": [
       "<matplotlib.figure.Figure at 0x7fb42efb8e48>"
      ]
     },
     "metadata": {},
     "output_type": "display_data"
    }
   ],
   "source": [
    "import matplotlib.pyplot as plt\n",
    "\n",
    "data = {'apples': 10, 'oranges': 15, 'lemons': 5, 'limes': 20}\n",
    "names = list(data.keys())\n",
    "values = list(data.values())\n",
    "\n",
    "fig, axs = plt.subplots(1, 3, figsize=(9, 3), sharey=True)\n",
    "axs[0].bar(names, values)\n",
    "axs[1].scatter(names, values)\n",
    "axs[2].plot(names, values)\n",
    "fig.suptitle('Categorical Plotting')\n"
   ]
  },
  {
   "cell_type": "code",
   "execution_count": null,
   "metadata": {},
   "outputs": [],
   "source": []
  }
 ],
 "metadata": {
  "kernelspec": {
   "display_name": "Python 3",
   "language": "python",
   "name": "python3"
  },
  "language_info": {
   "codemirror_mode": {
    "name": "ipython",
    "version": 3
   },
   "file_extension": ".py",
   "mimetype": "text/x-python",
   "name": "python",
   "nbconvert_exporter": "python",
   "pygments_lexer": "ipython3",
   "version": "3.5.2"
  }
 },
 "nbformat": 4,
 "nbformat_minor": 2
}
