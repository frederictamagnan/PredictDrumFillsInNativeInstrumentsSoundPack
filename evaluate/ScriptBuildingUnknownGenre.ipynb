{
 "cells": [
  {
   "cell_type": "code",
   "execution_count": 40,
   "metadata": {},
   "outputs": [
    {
     "name": "stdout",
     "output_type": "stream",
     "text": [
      "32\n"
     ]
    }
   ],
   "source": [
    "path_tags= [\n",
    "    '/home/ftamagnan/dataset/id_lists/tagtraum/tagtraum_Blues.id',\n",
    "    '/home/ftamagnan/dataset/id_lists/tagtraum/tagtraum_Country.id',\n",
    "    '/home/ftamagnan/dataset/id_lists/tagtraum/tagtraum_Electronic.id',\n",
    "    '/home/ftamagnan/dataset/id_lists/tagtraum/tagtraum_Folk.id',\n",
    "    '/home/ftamagnan/dataset/id_lists/tagtraum/tagtraum_Jazz.id',\n",
    "    '/home/ftamagnan/dataset/id_lists/tagtraum/tagtraum_Latin.id',\n",
    "    '/home/ftamagnan/dataset/id_lists/tagtraum/tagtraum_Metal.id',\n",
    "    '/home/ftamagnan/dataset/id_lists/tagtraum/tagtraum_New-Age.id',\n",
    "    '/home/ftamagnan/dataset/id_lists/tagtraum/tagtraum_Pop.id', # 8\n",
    "    '/home/ftamagnan/dataset/id_lists/tagtraum/tagtraum_Punk.id',\n",
    "    '/home/ftamagnan/dataset/id_lists/tagtraum/tagtraum_Rap.id',\n",
    "    '/home/ftamagnan/dataset/id_lists/tagtraum/tagtraum_Reggae.id',\n",
    "    '/home/ftamagnan/dataset/id_lists/tagtraum/tagtraum_RnB.id',\n",
    "    '/home/ftamagnan/dataset/id_lists/tagtraum/tagtraum_Rock.id', # 13\n",
    "    '/home/ftamagnan/dataset/id_lists/tagtraum/tagtraum_World.id',\n",
    "    '/home/ftamagnan/dataset/id_lists/tagtraum/tagtraum_Unknown.id'\n",
    "]\n",
    "filepath_dataset = '/home/ftamagnan/dataset/lpd_5/lpd_5_cleansed/'\n",
    "\n",
    "s='home/ftamagnan/dataset/id_lists/'\n",
    "print(len(s))"
   ]
  },
  {
   "cell_type": "code",
   "execution_count": 41,
   "metadata": {},
   "outputs": [
    {
     "name": "stdout",
     "output_type": "stream",
     "text": [
      ">>/tagtraum/tagtraum_Blues\n",
      ">>/tagtraum/tagtraum_Country\n",
      ">>/tagtraum/tagtraum_Electronic\n",
      ">>/tagtraum/tagtraum_Folk\n",
      ">>/tagtraum/tagtraum_Jazz\n",
      ">>/tagtraum/tagtraum_Latin\n",
      ">>/tagtraum/tagtraum_Metal\n",
      ">>/tagtraum/tagtraum_New-Age\n",
      ">>/tagtraum/tagtraum_Pop\n",
      ">>/tagtraum/tagtraum_Punk\n",
      ">>/tagtraum/tagtraum_Rap\n",
      ">>/tagtraum/tagtraum_Reggae\n",
      ">>/tagtraum/tagtraum_RnB\n",
      ">>/tagtraum/tagtraum_Rock\n",
      ">>/tagtraum/tagtraum_World\n",
      ">>/tagtraum/tagtraum_Unknown\n",
      "21425\n"
     ]
    }
   ],
   "source": [
    "file_genre_list=[]\n",
    "for tag_i, tag in enumerate(path_tags):\n",
    "\n",
    "    print('>>' + tag[32:-3])\n",
    "    with open(tag, 'r') as f:\n",
    "        # ITERATE OVER THE FOLDER LISTS\n",
    "        for i, file in enumerate(f):\n",
    "            file = file.rstrip()\n",
    "            middle = '/'.join(file[2:5]) + '/'        \n",
    "            p = filepath_dataset + middle + file\n",
    "            file_genre_list.append(file)\n",
    "print(len(file_genre_list))"
   ]
  },
  {
   "cell_type": "code",
   "execution_count": 26,
   "metadata": {},
   "outputs": [],
   "source": [
    "# import os\n",
    "# lol='/home/ftamagnan/dataset/lpd_5/lpd_5_cleansed/O/J/V/'\n",
    "# l=len(lol)\n",
    "# list_unk=[]\n",
    "# for subdir, dirs, files in os.walk(filepath_dataset):\n",
    "    \n",
    "#     for file in files:\n",
    "#         filepath = os.path.join(subdir, file)\n",
    "#         un=filepath[l:l+18]\n",
    "#         if un not in file_genre_list:\n",
    "#             list_unk.append(un)\n",
    "            \n",
    "        "
   ]
  },
  {
   "cell_type": "code",
   "execution_count": 31,
   "metadata": {},
   "outputs": [],
   "source": [
    "# with open('./tagtraum_Unknown.id', 'w') as f:\n",
    "#     for item in list_unk:\n",
    "#         f.write(\"%s\\n\" % item)"
   ]
  },
  {
   "cell_type": "code",
   "execution_count": 29,
   "metadata": {},
   "outputs": [],
   "source": [
    "# list_unk=list(set(list_unk))"
   ]
  },
  {
   "cell_type": "code",
   "execution_count": 30,
   "metadata": {},
   "outputs": [
    {
     "name": "stdout",
     "output_type": "stream",
     "text": [
      "17053\n"
     ]
    }
   ],
   "source": [
    "# print(len(list_unk))"
   ]
  },
  {
   "cell_type": "code",
   "execution_count": null,
   "metadata": {},
   "outputs": [],
   "source": []
  }
 ],
 "metadata": {
  "kernelspec": {
   "display_name": "Python 3",
   "language": "python",
   "name": "python3"
  },
  "language_info": {
   "codemirror_mode": {
    "name": "ipython",
    "version": 3
   },
   "file_extension": ".py",
   "mimetype": "text/x-python",
   "name": "python",
   "nbconvert_exporter": "python",
   "pygments_lexer": "ipython3",
   "version": "3.5.2"
  }
 },
 "nbformat": 4,
 "nbformat_minor": 2
}
