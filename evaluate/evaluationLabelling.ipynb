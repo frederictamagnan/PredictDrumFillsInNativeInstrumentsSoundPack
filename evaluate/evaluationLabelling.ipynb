{
 "cells": [
  {
   "cell_type": "code",
   "execution_count": 1,
   "metadata": {},
   "outputs": [],
   "source": [
    "import os\n",
    "import numpy as np"
   ]
  },
  {
   "cell_type": "code",
   "execution_count": 27,
   "metadata": {},
   "outputs": [
    {
     "name": "stdout",
     "output_type": "stream",
     "text": [
      "[ 0.5   0.5   0.5   0.5   0.13 50.    1.  ]\n"
     ]
    }
   ],
   "source": [
    "\n",
    "def count_adjacent_true(arr):\n",
    "    assert len(arr.shape) == 1\n",
    "    assert arr.dtype == np.bool\n",
    "    if arr.size == 0:\n",
    "        return np.empty(0, dtype=int), np.empty(0, dtype=int)\n",
    "    sw = np.insert(arr[1:] ^ arr[:-1], [0, arr.shape[0]-1], values=True)\n",
    "    swi = np.arange(sw.shape[0])[sw]\n",
    "    offset = 0 if arr[0] else 1\n",
    "    lengths = swi[offset+1::2] - swi[offset:-1:2]\n",
    "    if lengths.shape[0]==0:\n",
    "        return (np.array([0]),np.array([0]))\n",
    "    else:\n",
    "        return swi[offset:-1:2], lengths\n",
    "    \n",
    "\n",
    "a=np.zeros(100)\n",
    "a[50:]=1\n",
    "def compute_metrics_label(label,search='01'):\n",
    "    label=(label==1)*1\n",
    "    l=len(label)\n",
    "    adj=count_adjacent_true(label==1)\n",
    "    \n",
    "    string=np.array2string(label,precision=0,separator='')[1:-1].replace('.','').replace(' ','')\n",
    "    pattern=string.count(search)\n",
    "    \n",
    "#     print(adj)\n",
    "    return np.array([min(adj[1])/l,max(adj[1])/l,np.mean(adj[1])/l,label.sum()/l,label[3::4].sum()/l,label.sum(),pattern])\n",
    "res=compute_metrics_label(a)\n",
    "print(res)"
   ]
  },
  {
   "cell_type": "code",
   "execution_count": 3,
   "metadata": {},
   "outputs": [],
   "source": [
    "path_tags= [\n",
    "    '/home/ftamagnan/dataset/id_lists/tagtraum/tagtraum_Blues.id',\n",
    "    '/home/ftamagnan/dataset/id_lists/tagtraum/tagtraum_Country.id',\n",
    "    '/home/ftamagnan/dataset/id_lists/tagtraum/tagtraum_Electronic.id',\n",
    "    '/home/ftamagnan/dataset/id_lists/tagtraum/tagtraum_Folk.id',\n",
    "    '/home/ftamagnan/dataset/id_lists/tagtraum/tagtraum_Jazz.id',\n",
    "    '/home/ftamagnan/dataset/id_lists/tagtraum/tagtraum_Latin.id',\n",
    "    '/home/ftamagnan/dataset/id_lists/tagtraum/tagtraum_Metal.id',\n",
    "    '/home/ftamagnan/dataset/id_lists/tagtraum/tagtraum_New-Age.id',\n",
    "    '/home/ftamagnan/dataset/id_lists/tagtraum/tagtraum_Pop.id', # 8\n",
    "    '/home/ftamagnan/dataset/id_lists/tagtraum/tagtraum_Punk.id',\n",
    "    '/home/ftamagnan/dataset/id_lists/tagtraum/tagtraum_Rap.id',\n",
    "    '/home/ftamagnan/dataset/id_lists/tagtraum/tagtraum_Reggae.id',\n",
    "    '/home/ftamagnan/dataset/id_lists/tagtraum/tagtraum_RnB.id',\n",
    "    '/home/ftamagnan/dataset/id_lists/tagtraum/tagtraum_Rock.id', # 13\n",
    "    '/home/ftamagnan/dataset/id_lists/tagtraum/tagtraum_World.id',\n",
    "    '/home/ftamagnan/dataset/id_lists/tagtraum/tagtraum_Unknown.id'\n",
    "]\n",
    "filepath_dataset = '/home/ftamagnan/dataset/lpd_5/lpd_5_cleansed/'"
   ]
  },
  {
   "cell_type": "code",
   "execution_count": 25,
   "metadata": {},
   "outputs": [],
   "source": [
    "def iterate_metrics_fusion():\n",
    "\n",
    "    metrics=np.zeros((1,8))\n",
    "    for tag_i, tag in enumerate(path_tags):\n",
    "\n",
    "\n",
    "        print('>>' + tag[32:-3])\n",
    "        with open(tag, 'r') as f:\n",
    "            # ITERATE OVER THE FOLDER LISTS\n",
    "            for i, file in enumerate(f):\n",
    "                file = file.rstrip()\n",
    "                middle = '/'.join(file[2:5]) + '/'        \n",
    "                p = filepath_dataset + middle + file\n",
    "                for npz in os.listdir(p):\n",
    "                    if 'label.npz' in npz:\n",
    "                        data=dict(np.load(p+'/'+npz))\n",
    "                        label_s=data['label']\n",
    "                    if 'label_clustering.npz' in npz:\n",
    "                        data=dict(np.load(p+'/'+npz))\n",
    "                        label_c=data['label']\n",
    "                label_c=label_c==1*1\n",
    "                label=np.logical_and(label_c,label_s)*1\n",
    "                m=compute_metrics_label(label)\n",
    "                m_=np.concatenate([m,np.array([tag_i])])\n",
    "\n",
    "                m_=m_.reshape((1,8))\n",
    "                metrics=np.concatenate((metrics,m_))\n",
    "                \n",
    "                        \n",
    "    return metrics"
   ]
  },
  {
   "cell_type": "code",
   "execution_count": 28,
   "metadata": {},
   "outputs": [],
   "source": [
    "def iterate_metrics(labeltype,search='01'):\n",
    "\n",
    "    metrics=np.zeros((1,8))\n",
    "    for tag_i, tag in enumerate(path_tags):\n",
    "\n",
    "\n",
    "        print('>>' + tag[32:-3])\n",
    "        with open(tag, 'r') as f:\n",
    "            # ITERATE OVER THE FOLDER LISTS\n",
    "            for i, file in enumerate(f):\n",
    "                file = file.rstrip()\n",
    "                middle = '/'.join(file[2:5]) + '/'        \n",
    "                p = filepath_dataset + middle + file\n",
    "                for npz in os.listdir(p):\n",
    "                    if labeltype in npz:\n",
    "                        data=dict(np.load(p+'/'+npz))\n",
    "                        label=data['label']\n",
    "                        m=compute_metrics_label(label,search=search)\n",
    "                        m_=np.concatenate([m,np.array([tag_i])])\n",
    "                        m_=m_.reshape((1,8))\n",
    "                        \n",
    "                        metrics=np.concatenate((metrics,m_))\n",
    "    return metrics"
   ]
  },
  {
   "cell_type": "code",
   "execution_count": null,
   "metadata": {},
   "outputs": [
    {
     "name": "stdout",
     "output_type": "stream",
     "text": [
      ">>/tagtraum/tagtraum_Blues\n",
      ">>/tagtraum/tagtraum_Country\n",
      ">>/tagtraum/tagtraum_Electronic\n",
      ">>/tagtraum/tagtraum_Folk\n",
      ">>/tagtraum/tagtraum_Jazz\n",
      ">>/tagtraum/tagtraum_Latin\n",
      ">>/tagtraum/tagtraum_Metal\n",
      ">>/tagtraum/tagtraum_New-Age\n",
      ">>/tagtraum/tagtraum_Pop\n",
      ">>/tagtraum/tagtraum_Punk\n",
      ">>/tagtraum/tagtraum_Rap\n",
      ">>/tagtraum/tagtraum_Reggae\n",
      ">>/tagtraum/tagtraum_RnB\n",
      ">>/tagtraum/tagtraum_Rock\n",
      ">>/tagtraum/tagtraum_World\n",
      ">>/tagtraum/tagtraum_Unknown\n",
      ">>/tagtraum/tagtraum_Blues\n",
      ">>/tagtraum/tagtraum_Country\n",
      ">>/tagtraum/tagtraum_Electronic\n",
      ">>/tagtraum/tagtraum_Folk\n",
      ">>/tagtraum/tagtraum_Jazz\n",
      ">>/tagtraum/tagtraum_Latin\n",
      ">>/tagtraum/tagtraum_Metal\n",
      ">>/tagtraum/tagtraum_New-Age\n",
      ">>/tagtraum/tagtraum_Pop\n"
     ]
    }
   ],
   "source": [
    "metrics_fusion=iterate_metrics_fusion()\n",
    "metrics_sk=iterate_metrics('label.npz')\n",
    "metrics_clustering=iterate_metrics('label_clustering.npz',search='-11')\n",
    "\n"
   ]
  },
  {
   "cell_type": "code",
   "execution_count": 21,
   "metadata": {},
   "outputs": [],
   "source": [
    "np.savez('./metrics_fills.npz',metrics_fusion=metrics_fusion,metrics_clustering=metrics_clustering,metrics_sk=metrics_sk)"
   ]
  },
  {
   "cell_type": "code",
   "execution_count": 8,
   "metadata": {
    "scrolled": true
   },
   "outputs": [
    {
     "ename": "SyntaxError",
     "evalue": "invalid syntax (<ipython-input-8-c50e006e4ffd>, line 10)",
     "output_type": "error",
     "traceback": [
      "\u001b[0;36m  File \u001b[0;32m\"<ipython-input-8-c50e006e4ffd>\"\u001b[0;36m, line \u001b[0;32m10\u001b[0m\n\u001b[0;31m    for\u001b[0m\n\u001b[0m       ^\u001b[0m\n\u001b[0;31mSyntaxError\u001b[0m\u001b[0;31m:\u001b[0m invalid syntax\n"
     ]
    }
   ],
   "source": [
    "mean_sk=np.mean(metrics_sk,axis=0)\n",
    "mean_sk=mean_sk[:-1]*100\n",
    "\n",
    "mean_c=np.mean(metrics_clustering,axis=0)\n",
    "mean_c=mean_c[:-1]*100\n",
    "print(mean_c)\n",
    "print(mean_sk)\n",
    "\n",
    "\n",
    "for\n",
    "\n"
   ]
  },
  {
   "cell_type": "code",
   "execution_count": null,
   "metadata": {},
   "outputs": [],
   "source": [
    "\n",
    "\n"
   ]
  },
  {
   "cell_type": "code",
   "execution_count": null,
   "metadata": {},
   "outputs": [],
   "source": [
    "import matplotlib.pyplot as plt\n",
    "\n",
    "data = {'apples': 10, 'oranges': 15, 'lemons': 5, 'limes': 20}\n",
    "names = list(data.keys())\n",
    "values = list(data.values())\n",
    "\n",
    "fig, axs = plt.subplots(1, 3, figsize=(9, 3), sharey=True)\n",
    "axs[0].bar(names, values)\n",
    "axs[1].scatter(names, values)\n",
    "axs[2].plot(names, values)\n",
    "fig.suptitle('Categorical Plotting')\n"
   ]
  },
  {
   "cell_type": "code",
   "execution_count": null,
   "metadata": {},
   "outputs": [],
   "source": []
  }
 ],
 "metadata": {
  "kernelspec": {
   "display_name": "Python 3",
   "language": "python",
   "name": "python3"
  },
  "language_info": {
   "codemirror_mode": {
    "name": "ipython",
    "version": 3
   },
   "file_extension": ".py",
   "mimetype": "text/x-python",
   "name": "python",
   "nbconvert_exporter": "python",
   "pygments_lexer": "ipython3",
   "version": "3.5.2"
  }
 },
 "nbformat": 4,
 "nbformat_minor": 2
}
